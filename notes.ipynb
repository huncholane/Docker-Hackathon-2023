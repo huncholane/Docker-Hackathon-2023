{
 "cells": [
  {
   "cell_type": "markdown",
   "metadata": {},
   "source": [
    "## 1. Set up the scraper\n",
    "* Download data from nfl.com\n",
    "* Use internal api with Bearer Key"
   ]
  },
  {
   "cell_type": "markdown",
   "metadata": {},
   "source": [
    "### 1.1 Get a working example for Bearer token"
   ]
  },
  {
   "cell_type": "code",
   "execution_count": 2,
   "metadata": {},
   "outputs": [],
   "source": [
    "import time\n",
    "from browsermobproxy import Server\n",
    "from selenium import webdriver\n",
    "import json\n",
    "import os\n",
    "BMP_PATH = os.path.abspath('browsermob-proxy-2.1.4/bin/browsermob-proxy.bat')\n",
    "\n",
    "# Start BrowserMob Proxy\n",
    "server = Server(BMP_PATH)\n",
    "server.start()\n",
    "proxy = server.create_proxy()\n",
    "\n",
    "# Configure Chrome with the proxy\n",
    "chrome_options = webdriver.ChromeOptions()\n",
    "chrome_options.add_argument(f'--proxy-server={proxy.proxy}')\n",
    "chrome_options.add_argument('--ignore-certificate-errors')\n",
    "chrome_options.add_argument('--headless')\n",
    "driver = webdriver.Chrome(options=chrome_options)\n",
    "# Navigate to the website\n",
    "driver.get(\"https://nfl.com/scores\")\n",
    "\n",
    "# Start capturing network traffic\n",
    "proxy.new_har(\"nfl\", options={'captureHeaders': True})\n",
    "\n",
    "# Wait for the header with the name \"Authorization\"\n",
    "timeout = 60  # Adjust the timeout as needed\n",
    "def get_auth_token():\n",
    "    start_time = time.time()\n",
    "    while time.time() - start_time < timeout:\n",
    "        har = proxy.har\n",
    "        for entry in har['log']['entries']:\n",
    "            request_headers = entry['request']['headers']\n",
    "            for header in request_headers:\n",
    "                if header['name'] == 'Authorization':\n",
    "                    return header['value']\n",
    "        time.sleep(1)\n",
    "    return None\n",
    "auth_token = get_auth_token()\n",
    "\n",
    "# Store the auth token\n",
    "auth_path = 'auth.json'\n",
    "auth_json = {\n",
    "    'time': time.time(),\n",
    "    'token': auth_token\n",
    "}\n",
    "with open(auth_path, 'w') as f:\n",
    "    json.dump(auth_json, f)\n",
    "\n",
    "# Stop capturing network traffic\n",
    "har = proxy.har\n",
    "\n",
    "# Close the browser and BrowserMob Proxy\n",
    "driver.quit()\n",
    "server.stop()"
   ]
  },
  {
   "cell_type": "markdown",
   "metadata": {},
   "source": [
    "### 1.2 Create a class that manages requests to nfl.com"
   ]
  },
  {
   "cell_type": "code",
   "execution_count": 1,
   "metadata": {},
   "outputs": [],
   "source": [
    "from nfl_client import NFLClient\n",
    "client = NFLClient()"
   ]
  },
  {
   "cell_type": "code",
   "execution_count": 2,
   "metadata": {},
   "outputs": [
    {
     "name": "stdout",
     "output_type": "stream",
     "text": [
      "Auth Token: Bearer eyJ0eXAiOiJKV1QiLCJhbGciOiJIUzI1NiJ9.eyJjbGllbnRJZCI6ImU1MzVjN2MwLTgxN2YtNDc3Ni04OTkwLTU2NTU2ZjhiMTkyOCIsImNsaWVudEtleSI6IjRjRlVXNkRtd0pwelQ5TDdMckczcVJBY0FCRzVzMDRnIiwiaXNzIjoiTkZMIiwiZGV2aWNlSWQiOiJkMTdlYThlYy02NWVlLTQ5YjUtOTYyNi04NThjN2I4NDFjNDUiLCJwbGFucyI6W3sicGxhbiI6ImZyZWUiLCJleHBpcmF0aW9uRGF0ZSI6IjIwMjQtMTEtMDQiLCJzb3VyY2UiOiJORkwiLCJzdGFydERhdGUiOiIyMDIzLTExLTA1Iiwic3RhdHVzIjoiQUNUSVZFIiwidHJpYWwiOmZhbHNlfV0sIkRpc3BsYXlOYW1lIjoiV0VCX0RFU0tUT1BfREVTS1RPUCIsIk5vdGVzIjoiIiwiZm9ybUZhY3RvciI6IkRFU0tUT1AiLCJsdXJhQXBwS2V5IjoiU1pzNTdkQkdSeGJMNzI4bFZwN0RZUSIsInBsYXRmb3JtIjoiREVTS1RPUCIsInByb2R1Y3ROYW1lIjoiV0VCIiwiY2l0eSI6ImFwcGxlIHZhbGxleSIsImNvdW50cnlDb2RlIjoiVVMiLCJkbWFDb2RlIjoiODAzIiwiaG1hVGVhbXMiOlsiMTA0MDI1MTAtODkzMS0wZDVmLTk4MTUtNzliYjc5NjQ5YTY1IiwiMTA0MDI1MjAtOTZiZi1lOWYyLTRmNjgtODUyMWNhODk2MDYwIiwiMTA0MDQ0MDAtM2IzNS0wNzNmLTE5N2UtMTk0YmI4MjQwNzIzIl0sInJlZ2lvbiI6IkNBIiwiYnJvd3NlciI6IkNocm9tZSBIZWFkbGVzcyIsImNlbGx1bGFyIjpmYWxzZSwiZW52aXJvbm1lbnQiOiJwcm9kdWN0aW9uIiwicm9sZXMiOlsiZnJlZSJdLCJleHAiOjE2OTkxNTkxNTN9.uq3VzAFHpGdUzkvWvYcWzykY6NBlCmuYUR-bR-y_-iQ\n"
     ]
    }
   ],
   "source": [
    "client.load_auth_token()\n",
    "print('Auth Token:', client.auth_token)"
   ]
  },
  {
   "cell_type": "code",
   "execution_count": 3,
   "metadata": {},
   "outputs": [
    {
     "name": "stdout",
     "output_type": "stream",
     "text": [
      "https://api.nfl.com/football/v2/stats/live/game-summaries/b07ec38f-f053-11ed-b4a7-bab79e4492fa\n",
      "https://api.nfl.com/football/v2/games/b07eb396-f053-11ed-b4a7-bab79e4492fa?withExternalIds=true\n",
      "https://api.nfl.com/football/v2/stats/live/game-summaries/b07eb396-f053-11ed-b4a7-bab79e4492fa\n",
      "https://api.nfl.com/football/v2/games/b07eccd5-f053-11ed-b4a7-bab79e4492fa?withExternalIds=true\n",
      "https://api.nfl.com/football/v2/stats/live/game-summaries/b07eccd5-f053-11ed-b4a7-bab79e4492fa\n",
      "https://api.nfl.com/football/v2/games/b07eaef2-f053-11ed-b4a7-bab79e4492fa?withExternalIds=true\n",
      "https://api.nfl.com/football/v2/stats/live/game-summaries/b07eaef2-f053-11ed-b4a7-bab79e4492fa\n",
      "https://api.nfl.com/football/v2/games/b07eaef2-f053-11ed-b4a7-bab79e4492fa?withExternalIds=true\n",
      "https://api.nfl.com/football/v2/stats/live/game-summaries/b07eaef2-f053-11ed-b4a7-bab79e4492fa\n",
      "https://api.nfl.com/football/v2/games/b07eb396-f053-11ed-b4a7-bab79e4492fa?withExternalIds=true\n",
      "https://api.nfl.com/football/v2/stats/live/game-summaries/b07eb396-f053-11ed-b4a7-bab79e4492fa\n",
      "https://api.nfl.com/content/v1/videos/replays?gameId=b07ec866-f053-11ed-b4a7-bab79e4492fa\n",
      "https://api.nfl.com/football/v2/games/b07eb396-f053-11ed-b4a7-bab79e4492fa?withExternalIds=true\n",
      "https://api.nfl.com/content/v1/videos/replays?gameId=b07eb9ec-f053-11ed-b4a7-bab79e4492fa\n",
      "https://api.nfl.com/football/v2/stats/live/game-summaries/b07eb396-f053-11ed-b4a7-bab79e4492fa\n",
      "https://api.nfl.com/football/v2/games/b07eb9ec-f053-11ed-b4a7-bab79e4492fa?withExternalIds=true\n",
      "https://api.nfl.com/content/v1/videos/replays?gameId=b07eccd5-f053-11ed-b4a7-bab79e4492fa\n",
      "https://api.nfl.com/football/v2/stats/live/game-summaries/b07eb9ec-f053-11ed-b4a7-bab79e4492fa\n",
      "https://api.nfl.com/football/v2/games/b07eb9ec-f053-11ed-b4a7-bab79e4492fa?withExternalIds=true\n",
      "https://api.nfl.com/football/v2/stats/live/game-summaries/b07eb9ec-f053-11ed-b4a7-bab79e4492fa\n",
      "https://api.nfl.com/football/v2/games/b07ebf16-f053-11ed-b4a7-bab79e4492fa?withExternalIds=true\n",
      "https://api.nfl.com/football/v2/stats/live/game-summaries/b07ebf16-f053-11ed-b4a7-bab79e4492fa\n",
      "https://api.nfl.com/football/v2/games/b07ebf16-f053-11ed-b4a7-bab79e4492fa?withExternalIds=true\n",
      "https://api.nfl.com/football/v2/stats/live/game-summaries/b07ebf16-f053-11ed-b4a7-bab79e4492fa\n",
      "https://api.nfl.com/football/v2/games/b07ec38f-f053-11ed-b4a7-bab79e4492fa?withExternalIds=true\n",
      "https://api.nfl.com/football/v2/stats/live/game-summaries/b07ec38f-f053-11ed-b4a7-bab79e4492fa\n",
      "https://api.nfl.com/football/v2/games/b07ec38f-f053-11ed-b4a7-bab79e4492fa?withExternalIds=true\n",
      "https://api.nfl.com/football/v2/stats/live/game-summaries/b07ec38f-f053-11ed-b4a7-bab79e4492fa\n",
      "https://api.nfl.com/football/v2/games/b07ec866-f053-11ed-b4a7-bab79e4492fa?withExternalIds=true\n",
      "https://api.nfl.com/football/v2/stats/live/game-summaries/b07ec866-f053-11ed-b4a7-bab79e4492fa\n",
      "https://api.nfl.com/football/v2/games/b07ec866-f053-11ed-b4a7-bab79e4492fa?withExternalIds=true\n",
      "https://api.nfl.com/football/v2/stats/live/game-summaries/b07ec866-f053-11ed-b4a7-bab79e4492fa\n",
      "https://api.nfl.com/football/v2/games/b07eccd5-f053-11ed-b4a7-bab79e4492fa?withExternalIds=true\n",
      "https://api.nfl.com/football/v2/stats/live/game-summaries/b07eccd5-f053-11ed-b4a7-bab79e4492fa\n",
      "https://api.nfl.com/football/v2/games/b07eccd5-f053-11ed-b4a7-bab79e4492fa?withExternalIds=true\n",
      "https://api.nfl.com/football/v2/stats/live/game-summaries/b07eccd5-f053-11ed-b4a7-bab79e4492fa\n",
      "https://api.nfl.com/football/v2/games/b07ed134-f053-11ed-b4a7-bab79e4492fa?withExternalIds=true\n",
      "https://api.nfl.com/football/v2/stats/live/game-summaries/b07ed134-f053-11ed-b4a7-bab79e4492fa\n",
      "https://api.nfl.com/football/v2/games/b07ed134-f053-11ed-b4a7-bab79e4492fa?withExternalIds=true\n",
      "https://api.nfl.com/football/v2/stats/live/game-summaries/b07ed134-f053-11ed-b4a7-bab79e4492fa\n",
      "https://api.nfl.com/football/v2/games/b07ed134-f053-11ed-b4a7-bab79e4492fa?withExternalIds=true\n",
      "https://api.nfl.com/football/v2/stats/live/game-summaries/b07ed134-f053-11ed-b4a7-bab79e4492fa\n",
      "https://api.nfl.com/football/v2/games/b07ed7da-f053-11ed-b4a7-bab79e4492fa?withExternalIds=true\n",
      "https://api.nfl.com/football/v2/stats/live/game-summaries/b07ed7da-f053-11ed-b4a7-bab79e4492fa\n",
      "https://api.nfl.com/football/v2/games/b07edc7f-f053-11ed-b4a7-bab79e4492fa?withExternalIds=true\n",
      "https://api.nfl.com/football/v2/stats/live/game-summaries/b07edc7f-f053-11ed-b4a7-bab79e4492fa\n",
      "https://api.nfl.com/football/v2/games/b07ed7da-f053-11ed-b4a7-bab79e4492fa?withExternalIds=true\n",
      "https://api.nfl.com/football/v2/stats/live/game-summaries/b07ed7da-f053-11ed-b4a7-bab79e4492fa\n",
      "https://api.nfl.com/football/v2/games/b07ed7da-f053-11ed-b4a7-bab79e4492fa?withExternalIds=true\n",
      "https://api.nfl.com/football/v2/stats/live/game-summaries/b07ed7da-f053-11ed-b4a7-bab79e4492fa\n",
      "https://api.nfl.com/football/v2/games/b07edc7f-f053-11ed-b4a7-bab79e4492fa?withExternalIds=true\n",
      "https://api.nfl.com/football/v2/stats/live/game-summaries/b07edc7f-f053-11ed-b4a7-bab79e4492fa\n",
      "https://api.nfl.com/football/v2/games/b07edc7f-f053-11ed-b4a7-bab79e4492fa?withExternalIds=true\n",
      "https://api.nfl.com/football/v2/stats/live/game-summaries/b07edc7f-f053-11ed-b4a7-bab79e4492fa\n",
      "https://api.nfl.com/football/v2/games/b07ee104-f053-11ed-b4a7-bab79e4492fa?withExternalIds=true\n",
      "https://api.nfl.com/football/v2/stats/live/game-summaries/b07ee104-f053-11ed-b4a7-bab79e4492fa\n",
      "https://api.nfl.com/football/v2/games/b07ee104-f053-11ed-b4a7-bab79e4492fa?withExternalIds=true\n",
      "https://api.nfl.com/football/v2/stats/live/game-summaries/b07ee104-f053-11ed-b4a7-bab79e4492fa\n",
      "https://api.nfl.com/football/v2/games/b07ee104-f053-11ed-b4a7-bab79e4492fa?withExternalIds=true\n",
      "https://api.nfl.com/football/v2/stats/live/game-summaries/b07ee104-f053-11ed-b4a7-bab79e4492fa\n",
      "https://api.nfl.com/football/v2/games/b07ee104-f053-11ed-b4a7-bab79e4492fa?withExternalIds=true\n",
      "https://api.nfl.com/football/v2/stats/live/game-summaries/b07ee104-f053-11ed-b4a7-bab79e4492fa\n",
      "https://api.nfl.com/content/v1/videos/replays?gameId=b07ec38f-f053-11ed-b4a7-bab79e4492fa\n",
      "https://api.nfl.com/content/v1/videos/replays?gameId=b07ebf16-f053-11ed-b4a7-bab79e4492fa\n",
      "https://api.nfl.com/content/v1/videos/replays?gameId=b07ed134-f053-11ed-b4a7-bab79e4492fa\n",
      "https://api.nfl.com/content/v1/videos/replays?gameId=b07ee104-f053-11ed-b4a7-bab79e4492fa\n",
      "https://api.nfl.com/content/v1/videos/replays?gameId=b07edc7f-f053-11ed-b4a7-bab79e4492fa\n",
      "https://api.nfl.com/content/v1/videos/replays?gameId=b07ed7da-f053-11ed-b4a7-bab79e4492fa\n",
      "https://api.nfl.com/content/v1/videos/replays?gameId=b07ee5cd-f053-11ed-b4a7-bab79e4492fa\n",
      "https://api.nfl.com/football/v2/games/b07eaa67-f053-11ed-b4a7-bab79e4492fa?withExternalIds=true\n",
      "https://api.nfl.com/football/v2/stats/live/game-summaries/b07eaa67-f053-11ed-b4a7-bab79e4492fa\n",
      "https://api.nfl.com/football/v2/games/b07eaef2-f053-11ed-b4a7-bab79e4492fa?withExternalIds=true\n",
      "https://api.nfl.com/football/v2/stats/live/game-summaries/b07ec866-f053-11ed-b4a7-bab79e4492fa\n",
      "https://api.nfl.com/football/v2/stats/live/game-summaries/b07eaef2-f053-11ed-b4a7-bab79e4492fa\n",
      "https://api.nfl.com/football/v2/games/b07eb9ec-f053-11ed-b4a7-bab79e4492fa?withExternalIds=true\n",
      "https://api.nfl.com/football/v2/stats/live/game-summaries/b07eb9ec-f053-11ed-b4a7-bab79e4492fa\n",
      "https://api.nfl.com/football/v2/games/b07ebf16-f053-11ed-b4a7-bab79e4492fa?withExternalIds=true\n",
      "https://api.nfl.com/football/v2/stats/live/game-summaries/b07ebf16-f053-11ed-b4a7-bab79e4492fa\n",
      "https://api.nfl.com/football/v2/games/b07ec38f-f053-11ed-b4a7-bab79e4492fa?withExternalIds=true\n",
      "https://api.nfl.com/football/v2/stats/live/game-summaries/b07ec38f-f053-11ed-b4a7-bab79e4492fa\n",
      "https://api.nfl.com/football/v2/games/b07eb396-f053-11ed-b4a7-bab79e4492fa?withExternalIds=true\n",
      "https://api.nfl.com/football/v2/stats/live/game-summaries/b07eb396-f053-11ed-b4a7-bab79e4492fa\n",
      "https://api.nfl.com/football/v2/games/b07eccd5-f053-11ed-b4a7-bab79e4492fa?withExternalIds=true\n",
      "https://api.nfl.com/football/v2/stats/live/game-summaries/b07eccd5-f053-11ed-b4a7-bab79e4492fa\n",
      "https://api.nfl.com/football/v2/games/b07ec866-f053-11ed-b4a7-bab79e4492fa?withExternalIds=true\n",
      "https://api.nfl.com/football/v2/games/b07ed134-f053-11ed-b4a7-bab79e4492fa?withExternalIds=true\n",
      "https://api.nfl.com/football/v2/stats/live/game-summaries/b07ed134-f053-11ed-b4a7-bab79e4492fa\n",
      "https://api.nfl.com/football/v2/stats/live/game-summaries/b07ed7da-f053-11ed-b4a7-bab79e4492fa\n",
      "https://api.nfl.com/football/v2/games/b07ed7da-f053-11ed-b4a7-bab79e4492fa?withExternalIds=true\n",
      "https://api.nfl.com/football/v2/games/b07edc7f-f053-11ed-b4a7-bab79e4492fa?withExternalIds=true\n",
      "https://api.nfl.com/football/v2/stats/live/game-summaries/b07edc7f-f053-11ed-b4a7-bab79e4492fa\n",
      "https://api.nfl.com/football/v2/games/b07ee104-f053-11ed-b4a7-bab79e4492fa?withExternalIds=true\n",
      "https://api.nfl.com/football/v2/stats/live/game-summaries/b07ee104-f053-11ed-b4a7-bab79e4492fa\n",
      "https://api.nfl.com/live/v1/livestreams?contentType=GAME&endTime=2023-11-07T08%3A00%3A00.000Z&startTime=2023-11-01T07%3A00%3A00.000Z\n",
      "https://api.nfl.com/live/v1/livestreams?contentType=GAME&endTime=2023-11-05T07%3A00%3A00.000Z&startTime=2023-11-03T07%3A00%3A00.000Z\n",
      "https://api.nfl.com/live/v1/livestreams?contentType=AUDIO&endTime=2023-11-07T08%3A00%3A00.000Z&startTime=2023-11-01T07%3A00%3A00.000Z\n",
      "https://api.nfl.com/live/v1/livestreams?contentType=AUDIO&endTime=2023-11-05T07%3A00%3A00.000Z&startTime=2023-11-03T07%3A00%3A00.000Z\n",
      "https://api.nfl.com/football/v2/games/b07eaa67-f053-11ed-b4a7-bab79e4492fa?withExternalIds=true\n",
      "https://api.nfl.com/football/v2/stats/live/game-summaries/b07ec866-f053-11ed-b4a7-bab79e4492fa\n",
      "https://api.nfl.com/football/v2/games/b07eb9ec-f053-11ed-b4a7-bab79e4492fa?withExternalIds=true\n",
      "https://api.nfl.com/football/v2/stats/live/game-summaries/b07eaa67-f053-11ed-b4a7-bab79e4492fa\n",
      "https://api.nfl.com/football/v2/stats/live/game-summaries/b07eaef2-f053-11ed-b4a7-bab79e4492fa\n",
      "https://api.nfl.com/football/v2/games/b07eaef2-f053-11ed-b4a7-bab79e4492fa?withExternalIds=true\n",
      "https://api.nfl.com/football/v2/stats/live/game-summaries/b07ebf16-f053-11ed-b4a7-bab79e4492fa\n",
      "https://api.nfl.com/football/v2/stats/live/game-summaries/b07eb9ec-f053-11ed-b4a7-bab79e4492fa\n",
      "https://api.nfl.com/football/v2/games/b07ebf16-f053-11ed-b4a7-bab79e4492fa?withExternalIds=true\n",
      "https://api.nfl.com/football/v2/games/b07ec38f-f053-11ed-b4a7-bab79e4492fa?withExternalIds=true\n",
      "https://api.nfl.com/football/v2/games/b07eb396-f053-11ed-b4a7-bab79e4492fa?withExternalIds=true\n",
      "https://api.nfl.com/football/v2/stats/live/game-summaries/b07ec38f-f053-11ed-b4a7-bab79e4492fa\n",
      "https://api.nfl.com/football/v2/stats/live/game-summaries/b07eb396-f053-11ed-b4a7-bab79e4492fa\n",
      "https://api.nfl.com/football/v2/stats/live/game-summaries/b07ed134-f053-11ed-b4a7-bab79e4492fa\n",
      "https://api.nfl.com/football/v2/stats/live/game-summaries/b07eccd5-f053-11ed-b4a7-bab79e4492fa\n",
      "https://api.nfl.com/football/v2/games/b07eccd5-f053-11ed-b4a7-bab79e4492fa?withExternalIds=true\n",
      "https://api.nfl.com/football/v2/games/b07ed134-f053-11ed-b4a7-bab79e4492fa?withExternalIds=true\n",
      "https://api.nfl.com/football/v2/games/b07ec866-f053-11ed-b4a7-bab79e4492fa?withExternalIds=true\n",
      "https://api.nfl.com/football/v2/stats/live/game-summaries/b07ed7da-f053-11ed-b4a7-bab79e4492fa\n",
      "https://api.nfl.com/football/v2/games/b07ed7da-f053-11ed-b4a7-bab79e4492fa?withExternalIds=true\n",
      "https://api.nfl.com/football/v2/games/b07edc7f-f053-11ed-b4a7-bab79e4492fa?withExternalIds=true\n",
      "https://api.nfl.com/football/v2/stats/live/game-summaries/b07edc7f-f053-11ed-b4a7-bab79e4492fa\n",
      "https://api.nfl.com/football/v2/games/b07ee104-f053-11ed-b4a7-bab79e4492fa?withExternalIds=true\n",
      "https://api.nfl.com/football/v2/stats/live/game-summaries/b07ee104-f053-11ed-b4a7-bab79e4492fa\n",
      "https://api.nfl.com/live/v1/livestreams?contentType=AUDIO&endTime=2023-11-05T07%3A00%3A00.000Z&startTime=2023-11-03T07%3A00%3A00.000Z\n",
      "https://api.nfl.com/live/v1/livestreams?contentType=GAME&endTime=2023-11-07T08%3A00%3A00.000Z&startTime=2023-11-01T07%3A00%3A00.000Z\n",
      "https://api.nfl.com/live/v1/livestreams?contentType=GAME&endTime=2023-11-05T07%3A00%3A00.000Z&startTime=2023-11-03T07%3A00%3A00.000Z\n",
      "https://api.nfl.com/live/v1/livestreams?contentType=AUDIO&endTime=2023-11-07T08%3A00%3A00.000Z&startTime=2023-11-01T07%3A00%3A00.000Z\n",
      "https://api.nfl.com/football/v2/stats/live/game-summaries/b07ec866-f053-11ed-b4a7-bab79e4492fa\n",
      "https://api.nfl.com/football/v2/stats/live/game-summaries/b07eaef2-f053-11ed-b4a7-bab79e4492fa\n",
      "https://api.nfl.com/football/v2/games/b07eaef2-f053-11ed-b4a7-bab79e4492fa?withExternalIds=true\n",
      "https://api.nfl.com/football/v2/stats/live/game-summaries/b07ebf16-f053-11ed-b4a7-bab79e4492fa\n",
      "https://api.nfl.com/football/v2/stats/live/game-summaries/b07eb9ec-f053-11ed-b4a7-bab79e4492fa\n",
      "https://api.nfl.com/football/v2/games/b07ebf16-f053-11ed-b4a7-bab79e4492fa?withExternalIds=true\n",
      "https://api.nfl.com/football/v2/games/b07eb9ec-f053-11ed-b4a7-bab79e4492fa?withExternalIds=true\n",
      "https://api.nfl.com/football/v2/games/b07ec38f-f053-11ed-b4a7-bab79e4492fa?withExternalIds=true\n",
      "https://api.nfl.com/football/v2/stats/live/game-summaries/b07ec38f-f053-11ed-b4a7-bab79e4492fa\n",
      "https://api.nfl.com/football/v2/stats/live/game-summaries/b07eb396-f053-11ed-b4a7-bab79e4492fa\n",
      "https://api.nfl.com/football/v2/games/b07eb396-f053-11ed-b4a7-bab79e4492fa?withExternalIds=true\n",
      "https://api.nfl.com/football/v2/games/b07ec866-f053-11ed-b4a7-bab79e4492fa?withExternalIds=true\n",
      "https://api.nfl.com/football/v2/stats/live/game-summaries/b07ed134-f053-11ed-b4a7-bab79e4492fa\n",
      "https://api.nfl.com/football/v2/stats/live/game-summaries/b07ed7da-f053-11ed-b4a7-bab79e4492fa\n",
      "https://api.nfl.com/football/v2/games/b07ed134-f053-11ed-b4a7-bab79e4492fa?withExternalIds=true\n",
      "https://api.nfl.com/football/v2/stats/live/game-summaries/b07eccd5-f053-11ed-b4a7-bab79e4492fa\n",
      "https://api.nfl.com/football/v2/games/b07eccd5-f053-11ed-b4a7-bab79e4492fa?withExternalIds=true\n",
      "https://api.nfl.com/football/v2/games/b07ee104-f053-11ed-b4a7-bab79e4492fa?withExternalIds=true\n",
      "https://api.nfl.com/football/v2/stats/live/game-summaries/b07edc7f-f053-11ed-b4a7-bab79e4492fa\n",
      "https://api.nfl.com/football/v2/stats/live/game-summaries/b07ee104-f053-11ed-b4a7-bab79e4492fa\n",
      "https://api.nfl.com/football/v2/games/b07ed7da-f053-11ed-b4a7-bab79e4492fa?withExternalIds=true\n",
      "https://api.nfl.com/football/v2/games/b07edc7f-f053-11ed-b4a7-bab79e4492fa?withExternalIds=true\n",
      "https://api.nfl.com/content/v1/videos?clipType=Preview&season=2023&seasonType=REG&week=9&sort=contentDate%3Adesc\n",
      "https://api.nfl.com/football/v2/stats/live/game-summaries/b07ee104-f053-11ed-b4a7-bab79e4492fa\n",
      "https://api.nfl.com/football/v2/games/b07ee104-f053-11ed-b4a7-bab79e4492fa?withExternalIds=true\n",
      "https://api.nfl.com/content/v1/videos?clipType=Preview&season=2023&seasonType=REG&week=9&sort=contentDate%3Adesc\n",
      "https://api.nfl.com/football/v2/games/season/2023/seasonType/REG/week/10?withExternalIds=true\n",
      "https://api.nfl.com/football/v2/games/season/2023/seasonType/REG/week/10?withExternalIds=true\n",
      "https://api.nfl.com/football/v2/standings?seasonType=REG&week=8&season=2023&limit=100\n",
      "https://api.nfl.com/football/v2/standings?seasonType=REG&week=8&season=2023&limit=100\n",
      "https://api.nfl.com/content/v1/videos/replays?gameId=b07eaa67-f053-11ed-b4a7-bab79e4492fa\n",
      "https://api.nfl.com/content/v1/videos/replays?gameId=b07eaef2-f053-11ed-b4a7-bab79e4492fa\n",
      "https://api.nfl.com/content/v1/videos/replays?gameId=b07eb396-f053-11ed-b4a7-bab79e4492fa\n",
      "https://api.nfl.com/content/v1/videos/replays?gameId=b07eb9ec-f053-11ed-b4a7-bab79e4492fa\n",
      "https://api.nfl.com/content/v1/videos/replays?gameId=b07ebf16-f053-11ed-b4a7-bab79e4492fa\n",
      "https://api.nfl.com/content/v1/videos/replays?gameId=b07ec38f-f053-11ed-b4a7-bab79e4492fa\n",
      "https://api.nfl.com/content/v1/videos/replays?gameId=b07ec866-f053-11ed-b4a7-bab79e4492fa\n",
      "https://api.nfl.com/content/v1/videos/replays?gameId=b07eccd5-f053-11ed-b4a7-bab79e4492fa\n",
      "https://api.nfl.com/content/v1/videos/replays?gameId=b07ed134-f053-11ed-b4a7-bab79e4492fa\n",
      "https://api.nfl.com/content/v1/videos/replays?gameId=b07ed7da-f053-11ed-b4a7-bab79e4492fa\n",
      "https://api.nfl.com/content/v1/videos/replays?gameId=b07edc7f-f053-11ed-b4a7-bab79e4492fa\n",
      "https://api.nfl.com/content/v1/videos/replays?gameId=b07ee104-f053-11ed-b4a7-bab79e4492fa\n",
      "https://api.nfl.com/content/v1/videos/replays?gameId=b07ee5cd-f053-11ed-b4a7-bab79e4492fa\n",
      "https://api.nfl.com/content/v1/videos/replays?gameId=b07ea540-f053-11ed-b4a7-bab79e4492fa\n",
      "https://api.nfl.com/fe-store/instances?query=query%7Bviewer%7Binstances(ids%3A%5B%22a2d4a910-4a59-447b-abde-dd969693e784%22%5D%2Clabel%3A%22%22)%7Bedges%7Bnode%7BbuyTicketsDefault%7Btext%2Curl%7D%2CbuyTicketsProBowl%7Btext%2Curl%7D%2CbuyTicketsSuperBowl%7Btext%2Curl%7D%2CrewatchCTA%7Btext%2Curl%7D%7D%7D%7D%7D%7D&variables=%7B%22FE_STORE_INSTANCE_NAMESPACE%22%3A%22WEB.NDC%22%2C%22FE_STORE_TYPE_NAME%22%3A%22ScoresPage%22%2C%22FE_STORE_TYPE_NAMESPACE%22%3A%22WEB%22%7D\n",
      "https://api.nfl.com/fe-store/instances?query=query%7Bviewer%7Binstances(ids%3A%5B%2248ca44cb-212e-4dfd-a277-1d40f26b0ed1%22%5D%2Clabel%3A%22%22)%7Bedges%7Bnode%7Bname%2Citems%7Bid%2Cname%2Cimage%7Bid%2Csrc%2Cname%2Calt%7D%2Clinks%7Bid%2Curl%2Cname%2Ctext%7D%2Csummary%2Ctitle%2Ccategory%7D%2Ctitle%2Ctype%7D%7D%7D%7D%7D&variables=%7B%22FE_STORE_INSTANCE_NAMESPACE%22%3A%22WEB.NDC%22%2C%22FE_STORE_TYPE_NAME%22%3A%22CardList%22%2C%22FE_STORE_TYPE_NAMESPACE%22%3A%22WEB%22%7D\n",
      "https://api.nfl.com/fe-store/instances?query=query%7Bviewer%7Binstances(ids%3A%5B%22a2d4a910-4a59-447b-abde-dd969693e784%22%5D%2Clabel%3A%22%22)%7Bedges%7Bnode%7BbuyTicketsDefault%7Btext%2Curl%7D%2CbuyTicketsProBowl%7Btext%2Curl%7D%2CbuyTicketsSuperBowl%7Btext%2Curl%7D%2CrewatchCTA%7Btext%2Curl%7D%7D%7D%7D%7D%7D&variables=%7B%22FE_STORE_INSTANCE_NAMESPACE%22%3A%22WEB.NDC%22%2C%22FE_STORE_TYPE_NAME%22%3A%22ScoresPage%22%2C%22FE_STORE_TYPE_NAMESPACE%22%3A%22WEB%22%7D\n",
      "https://api.nfl.com/fe-store/instances?query=query%7Bviewer%7Binstances(ids%3A%5B%2248ca44cb-212e-4dfd-a277-1d40f26b0ed1%22%5D%2Clabel%3A%22%22)%7Bedges%7Bnode%7Bname%2Citems%7Bid%2Cname%2Cimage%7Bid%2Csrc%2Cname%2Calt%7D%2Clinks%7Bid%2Curl%2Cname%2Ctext%7D%2Csummary%2Ctitle%2Ccategory%7D%2Ctitle%2Ctype%7D%7D%7D%7D%7D&variables=%7B%22FE_STORE_INSTANCE_NAMESPACE%22%3A%22WEB.NDC%22%2C%22FE_STORE_TYPE_NAME%22%3A%22CardList%22%2C%22FE_STORE_TYPE_NAMESPACE%22%3A%22WEB%22%7D\n",
      "https://api.nfl.com/play/v1/asset/L5P64hq7cI6KLFiWM_XVSA\n",
      "https://api.nfl.com/play/v1/asset/L5P64hq7cI6KLFiWM_XVSA\n"
     ]
    }
   ],
   "source": [
    "client.download_endpoints()"
   ]
  },
  {
   "cell_type": "code",
   "execution_count": 25,
   "metadata": {},
   "outputs": [
    {
     "data": {
      "text/plain": [
       "WindowsPath('nfl_client_data/har_files')"
      ]
     },
     "execution_count": 25,
     "metadata": {},
     "output_type": "execute_result"
    }
   ],
   "source": [
    "client.HAR_DIR"
   ]
  },
  {
   "cell_type": "code",
   "execution_count": 103,
   "metadata": {},
   "outputs": [
    {
     "data": {
      "text/plain": [
       "'Bearer eyJ0eXAiOiJKV1QiLCJhbGciOiJIUzI1NiJ9.eyJjbGllbnRJZCI6ImU1MzVjN2MwLTgxN2YtNDc3Ni04OTkwLTU2NTU2ZjhiMTkyOCIsImNsaWVudEtleSI6IjRjRlVXNkRtd0pwelQ5TDdMckczcVJBY0FCRzVzMDRnIiwiaXNzIjoiTkZMIiwiZGV2aWNlSWQiOiI3ZWRmZDk4Yy03MDY0LTQyMTUtYjFiMi0yOTY4MGFhODgyNzgiLCJwbGFucyI6W3sicGxhbiI6ImZyZWUiLCJleHBpcmF0aW9uRGF0ZSI6IjIwMjQtMTEtMDQiLCJzb3VyY2UiOiJORkwiLCJzdGFydERhdGUiOiIyMDIzLTExLTA0Iiwic3RhdHVzIjoiQUNUSVZFIiwidHJpYWwiOmZhbHNlfV0sIkRpc3BsYXlOYW1lIjoiV0VCX0RFU0tUT1BfREVTS1RPUCIsIk5vdGVzIjoiIiwiZm9ybUZhY3RvciI6IkRFU0tUT1AiLCJsdXJhQXBwS2V5IjoiU1pzNTdkQkdSeGJMNzI4bFZwN0RZUSIsInBsYXRmb3JtIjoiREVTS1RPUCIsInByb2R1Y3ROYW1lIjoiV0VCIiwiY2l0eSI6ImFwcGxlIHZhbGxleSIsImNvdW50cnlDb2RlIjoiVVMiLCJkbWFDb2RlIjoiODAzIiwiaG1hVGVhbXMiOlsiMTA0MDI1MTAtODkzMS0wZDVmLTk4MTUtNzliYjc5NjQ5YTY1IiwiMTA0MDI1MjAtOTZiZi1lOWYyLTRmNjgtODUyMWNhODk2MDYwIiwiMTA0MDQ0MDAtM2IzNS0wNzNmLTE5N2UtMTk0YmI4MjQwNzIzIl0sInJlZ2lvbiI6IkNBIiwiYnJvd3NlciI6IkNocm9tZSIsImNlbGx1bGFyIjpmYWxzZSwiZW52aXJvbm1lbnQiOiJwcm9kdWN0aW9uIiwicm9sZXMiOlsiZnJlZSJdLCJleHAiOjE2OTkxNDA3OTB9.L9qs6t9J4yU89RO4Jq1u3YUEIxsmxQ4ffZeXzmHlGn0'"
      ]
     },
     "execution_count": 103,
     "metadata": {},
     "output_type": "execute_result"
    }
   ],
   "source": [
    "import json\n",
    "\n",
    "\n",
    "def get_token():\n",
    "    with open('nfl.har', 'r') as f:\n",
    "        har_json = json.load(f)\n",
    "    for entry in har_json['log']['entries']:\n",
    "        for header in entry['request']['headers']:\n",
    "            if header['name'].lower() == 'authorization':\n",
    "                return header['value']\n",
    "get_token()\n"
   ]
  },
  {
   "cell_type": "code",
   "execution_count": 93,
   "metadata": {},
   "outputs": [
    {
     "name": "stdout",
     "output_type": "stream",
     "text": [
      "Authorization header found in the HAR\n"
     ]
    }
   ],
   "source": [
    "from browsermobproxy import Server\n",
    "from selenium import webdriver\n",
    "from selenium.webdriver.common.by import By\n",
    "from selenium.webdriver.support.ui import WebDriverWait\n",
    "from selenium.webdriver.support import expected_conditions as EC\n",
    "\n",
    "# Start BrowserMob Proxy\n",
    "server = Server(BMP_PATH)\n",
    "server.start()\n",
    "proxy = server.create_proxy()\n",
    "\n",
    "# Configure Chrome with the proxy\n",
    "chrome_options = webdriver.ChromeOptions()\n",
    "chrome_options.add_argument(f'--proxy-server={proxy.proxy}')\n",
    "chrome_options.add_argument('--ignore-certificate-errors')\n",
    "driver = webdriver.Chrome(options=chrome_options)\n",
    "\n",
    "# Navigate to the website\n",
    "driver.get(\"https://nfl.com\")\n",
    "\n",
    "# Start capturing network traffic\n",
    "proxy.new_har(\"nfl\", options={'captureHeaders': True})\n",
    "\n",
    "# Perform interactions on the website as needed\n",
    "\n",
    "# Wait for the \"Authorization\" header to appear in the HAR\n",
    "def is_authorization_in_har(har):\n",
    "    for entry in har['log']['entries']:\n",
    "        for header in entry['request']['headers']:\n",
    "            if header['name'] == 'Authorization':\n",
    "                return True\n",
    "    return False\n",
    "\n",
    "wait = WebDriverWait(driver, 60)  # Adjust the timeout as needed\n",
    "try:\n",
    "    wait.until(lambda driver: is_authorization_in_har(proxy.har))\n",
    "    print(\"Authorization header found in the HAR\")\n",
    "except Exception:\n",
    "    print(\"Authorization header not found in the HAR\")\n",
    "\n",
    "# Close the browser and BrowserMob Proxy\n",
    "driver.quit()\n",
    "server.stop()\n"
   ]
  },
  {
   "cell_type": "code",
   "execution_count": 38,
   "metadata": {},
   "outputs": [],
   "source": [
    "from selenium import webdriver\n",
    "\n",
    "\n",
    "options = webdriver.ChromeOptions()\n",
    "options.add_argument('--headless')\n",
    "\n",
    "driver = webdriver.Chrome(options)\n",
    "\n",
    "root_url = 'https://google.com'\n",
    "root_url = 'https://nfl.com'\n",
    "driver.get(root_url)"
   ]
  },
  {
   "cell_type": "code",
   "execution_count": 48,
   "metadata": {},
   "outputs": [
    {
     "ename": "WebDriverException",
     "evalue": "Message: unknown error: network conditions must be set before it can be retrieved\n  (Session info: headless chrome=118.0.5993.120)\nStacktrace:\n\tGetHandleVerifier [0x00007FF7D1028EF2+54786]\n\t(No symbol) [0x00007FF7D0F95612]\n\t(No symbol) [0x00007FF7D0E4A64B]\n\t(No symbol) [0x00007FF7D0EB8E10]\n\t(No symbol) [0x00007FF7D0EABE30]\n\t(No symbol) [0x00007FF7D0E80941]\n\t(No symbol) [0x00007FF7D0E81B84]\n\tGetHandleVerifier [0x00007FF7D1377F52+3524194]\n\tGetHandleVerifier [0x00007FF7D13CD800+3874576]\n\tGetHandleVerifier [0x00007FF7D13C5D7F+3843215]\n\tGetHandleVerifier [0x00007FF7D10C5086+694166]\n\t(No symbol) [0x00007FF7D0FA0A88]\n\t(No symbol) [0x00007FF7D0F9CA94]\n\t(No symbol) [0x00007FF7D0F9CBC2]\n\t(No symbol) [0x00007FF7D0F8CC83]\n\tBaseThreadInitThunk [0x00007FFD49F27344+20]\n\tRtlUserThreadStart [0x00007FFD4A5E26B1+33]\n",
     "output_type": "error",
     "traceback": [
      "\u001b[1;31m---------------------------------------------------------------------------\u001b[0m",
      "\u001b[1;31mWebDriverException\u001b[0m                        Traceback (most recent call last)",
      "\u001b[1;32mc:\\Users\\huncho\\code\\hackathons\\DockerAiHackathon\\main.ipynb Cell 4\u001b[0m line \u001b[0;36m1\n\u001b[1;32m----> <a href='vscode-notebook-cell:/c%3A/Users/huncho/code/hackathons/DockerAiHackathon/main.ipynb#X11sZmlsZQ%3D%3D?line=0'>1</a>\u001b[0m driver\u001b[39m.\u001b[39;49mget_network_conditions()\n",
      "File \u001b[1;32mc:\\Users\\huncho\\AppData\\Local\\Programs\\Python\\Python310\\lib\\site-packages\\selenium\\webdriver\\chromium\\webdriver.py:82\u001b[0m, in \u001b[0;36mChromiumDriver.get_network_conditions\u001b[1;34m(self)\u001b[0m\n\u001b[0;32m     75\u001b[0m \u001b[39mdef\u001b[39;00m \u001b[39mget_network_conditions\u001b[39m(\u001b[39mself\u001b[39m):\n\u001b[0;32m     76\u001b[0m     \u001b[39m\"\"\"Gets Chromium network emulation settings.\u001b[39;00m\n\u001b[0;32m     77\u001b[0m \n\u001b[0;32m     78\u001b[0m \u001b[39m    :Returns:     A dict. For example:     {'latency': 4,\u001b[39;00m\n\u001b[0;32m     79\u001b[0m \u001b[39m    'download_throughput': 2, 'upload_throughput': 2,     'offline':\u001b[39;00m\n\u001b[0;32m     80\u001b[0m \u001b[39m    False}\u001b[39;00m\n\u001b[0;32m     81\u001b[0m \u001b[39m    \"\"\"\u001b[39;00m\n\u001b[1;32m---> 82\u001b[0m     \u001b[39mreturn\u001b[39;00m \u001b[39mself\u001b[39;49m\u001b[39m.\u001b[39;49mexecute(\u001b[39m\"\u001b[39;49m\u001b[39mgetNetworkConditions\u001b[39;49m\u001b[39m\"\u001b[39;49m)[\u001b[39m\"\u001b[39m\u001b[39mvalue\u001b[39m\u001b[39m\"\u001b[39m]\n",
      "File \u001b[1;32mc:\\Users\\huncho\\AppData\\Local\\Programs\\Python\\Python310\\lib\\site-packages\\selenium\\webdriver\\remote\\webdriver.py:347\u001b[0m, in \u001b[0;36mWebDriver.execute\u001b[1;34m(self, driver_command, params)\u001b[0m\n\u001b[0;32m    345\u001b[0m response \u001b[39m=\u001b[39m \u001b[39mself\u001b[39m\u001b[39m.\u001b[39mcommand_executor\u001b[39m.\u001b[39mexecute(driver_command, params)\n\u001b[0;32m    346\u001b[0m \u001b[39mif\u001b[39;00m response:\n\u001b[1;32m--> 347\u001b[0m     \u001b[39mself\u001b[39;49m\u001b[39m.\u001b[39;49merror_handler\u001b[39m.\u001b[39;49mcheck_response(response)\n\u001b[0;32m    348\u001b[0m     response[\u001b[39m\"\u001b[39m\u001b[39mvalue\u001b[39m\u001b[39m\"\u001b[39m] \u001b[39m=\u001b[39m \u001b[39mself\u001b[39m\u001b[39m.\u001b[39m_unwrap_value(response\u001b[39m.\u001b[39mget(\u001b[39m\"\u001b[39m\u001b[39mvalue\u001b[39m\u001b[39m\"\u001b[39m, \u001b[39mNone\u001b[39;00m))\n\u001b[0;32m    349\u001b[0m     \u001b[39mreturn\u001b[39;00m response\n",
      "File \u001b[1;32mc:\\Users\\huncho\\AppData\\Local\\Programs\\Python\\Python310\\lib\\site-packages\\selenium\\webdriver\\remote\\errorhandler.py:229\u001b[0m, in \u001b[0;36mErrorHandler.check_response\u001b[1;34m(self, response)\u001b[0m\n\u001b[0;32m    227\u001b[0m         alert_text \u001b[39m=\u001b[39m value[\u001b[39m\"\u001b[39m\u001b[39malert\u001b[39m\u001b[39m\"\u001b[39m]\u001b[39m.\u001b[39mget(\u001b[39m\"\u001b[39m\u001b[39mtext\u001b[39m\u001b[39m\"\u001b[39m)\n\u001b[0;32m    228\u001b[0m     \u001b[39mraise\u001b[39;00m exception_class(message, screen, stacktrace, alert_text)  \u001b[39m# type: ignore[call-arg]  # mypy is not smart enough here\u001b[39;00m\n\u001b[1;32m--> 229\u001b[0m \u001b[39mraise\u001b[39;00m exception_class(message, screen, stacktrace)\n",
      "\u001b[1;31mWebDriverException\u001b[0m: Message: unknown error: network conditions must be set before it can be retrieved\n  (Session info: headless chrome=118.0.5993.120)\nStacktrace:\n\tGetHandleVerifier [0x00007FF7D1028EF2+54786]\n\t(No symbol) [0x00007FF7D0F95612]\n\t(No symbol) [0x00007FF7D0E4A64B]\n\t(No symbol) [0x00007FF7D0EB8E10]\n\t(No symbol) [0x00007FF7D0EABE30]\n\t(No symbol) [0x00007FF7D0E80941]\n\t(No symbol) [0x00007FF7D0E81B84]\n\tGetHandleVerifier [0x00007FF7D1377F52+3524194]\n\tGetHandleVerifier [0x00007FF7D13CD800+3874576]\n\tGetHandleVerifier [0x00007FF7D13C5D7F+3843215]\n\tGetHandleVerifier [0x00007FF7D10C5086+694166]\n\t(No symbol) [0x00007FF7D0FA0A88]\n\t(No symbol) [0x00007FF7D0F9CA94]\n\t(No symbol) [0x00007FF7D0F9CBC2]\n\t(No symbol) [0x00007FF7D0F8CC83]\n\tBaseThreadInitThunk [0x00007FFD49F27344+20]\n\tRtlUserThreadStart [0x00007FFD4A5E26B1+33]\n"
     ]
    }
   ],
   "source": [
    "driver.get_network_conditions()"
   ]
  },
  {
   "cell_type": "code",
   "execution_count": 50,
   "metadata": {},
   "outputs": [],
   "source": [
    "driver.quit()"
   ]
  },
  {
   "cell_type": "code",
   "execution_count": 34,
   "metadata": {},
   "outputs": [],
   "source": [
    "import requests\n",
    "import json\n",
    "\n",
    "# Define the access token\n",
    "access_token = 'eyJ0eXAiOiJKV1QiLCJhbGciOiJIUzI1NiJ9.eyJjbGllbnRJZCI6ImU1MzVjN2MwLTgxN2YtNDc3Ni04OTkwLTU2NTU2ZjhiMTkyOCIsImNsaWVudEtleSI6IjRjRlVXNkRtd0pwelQ5TDdMckczcVJBY0FCRzVzMDRnIiwiaXNzIjoiTkZMIiwiZGV2aWNlSWQiOiI5NTIzOGE1YS05MTIxLTQzNTEtOTY4MC0wNzZlN2Y2ZTQ1NmYiLCJwbGFucyI6W3sicGxhbiI6ImZyZWUiLCJleHBpcmF0aW9uRGF0ZSI6IjIwMjQtMTEtMDMiLCJzb3VyY2UiOiJORkwiLCJzdGFydERhdGUiOiIyMDIzLTExLTA0Iiwic3RhdHVzIjoiQUNUSVZFIiwidHJpYWwiOmZhbHNlfV0sIkRpc3BsYXlOYW1lIjoiV0VCX0RFU0tUT1BfREVTS1RPUCIsIk5vdGVzIjoiIiwiZm9ybUZhY3RvciI6IkRFU0tUT1AiLCJsdXJhQXBwS2V5IjoiU1pzNTdkQkdSeGJMNzI4bFZwN0RZUSIsInBsYXRmb3JtIjoiREVTS1RPUCIsInByb2R1Y3ROYW1lIjoiV0VCIiwiY2l0eSI6ImxvcyBhbmdlbGVzIiwiY291bnRyeUNvZGUiOiJVUyIsImRtYUNvZGUiOiI4MDMiLCJobWFUZWFtcyI6WyIxMDQwMjUxMC04OTMxLTBkNWYtOTgxNS03OWJiNzk2NDlhNjUiLCIxMDQwMjUyMC05NmJmLWU5ZjItNGY2OC04NTIxY2E4OTYwNjAiLCIxMDQwNDQwMC0zYjM1LTA3M2YtMTk3ZS0xOTRiYjgyNDA3MjMiXSwicmVnaW9uIjoiQ0EiLCJicm93c2VyIjoiQ2hyb21lIiwiY2VsbHVsYXIiOmZhbHNlLCJlbnZpcm9ubWVudCI6InByb2R1Y3Rpb24iLCJyb2xlcyI6WyJmcmVlIl0sImV4cCI6MTY5OTA2NTUwMH0.3a0m-SwXS5ElV9NHNFy2EXwTUDtDCzZkpdPpYs-eW_g'\n",
    "headers = {\n",
    "    'Authorization': access_token\n",
    "}\n",
    "\n",
    "def request(api_url):\n",
    "    return requests.get(api_url, headers={\n",
    "        'Authorization': access_token\n",
    "    })"
   ]
  },
  {
   "cell_type": "markdown",
   "metadata": {},
   "source": [
    "### 1.2 Get team data through the teams endpoint"
   ]
  },
  {
   "cell_type": "code",
   "execution_count": 35,
   "metadata": {},
   "outputs": [
    {
     "data": {
      "text/plain": [
       "<Response [200]>"
      ]
     },
     "execution_count": 35,
     "metadata": {},
     "output_type": "execute_result"
    }
   ],
   "source": [
    "api_url = 'https://api.nfl.com/football/v2/teams?limit=100&season=2023'\n",
    "request(api_url)"
   ]
  },
  {
   "cell_type": "code",
   "execution_count": null,
   "metadata": {},
   "outputs": [],
   "source": []
  }
 ],
 "metadata": {
  "kernelspec": {
   "display_name": "Python 3",
   "language": "python",
   "name": "python3"
  },
  "language_info": {
   "codemirror_mode": {
    "name": "ipython",
    "version": 3
   },
   "file_extension": ".py",
   "mimetype": "text/x-python",
   "name": "python",
   "nbconvert_exporter": "python",
   "pygments_lexer": "ipython3",
   "version": "3.10.9"
  }
 },
 "nbformat": 4,
 "nbformat_minor": 2
}
