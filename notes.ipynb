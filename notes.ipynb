{
 "cells": [
  {
   "cell_type": "markdown",
   "metadata": {},
   "source": [
    "## 1. Set up the scraper\n",
    "* Download data from nfl.com\n",
    "* Use internal api with Bearer Key"
   ]
  },
  {
   "cell_type": "markdown",
   "metadata": {},
   "source": [
    "### 1.1 Get a working example for Bearer token"
   ]
  },
  {
   "cell_type": "code",
   "execution_count": 2,
   "metadata": {},
   "outputs": [],
   "source": [
    "import time\n",
    "from browsermobproxy import Server\n",
    "from selenium import webdriver\n",
    "import json\n",
    "import os\n",
    "BMP_PATH = os.path.abspath('browsermob-proxy-2.1.4/bin/browsermob-proxy.bat')\n",
    "\n",
    "# Start BrowserMob Proxy\n",
    "server = Server(BMP_PATH)\n",
    "server.start()\n",
    "proxy = server.create_proxy()\n",
    "\n",
    "# Configure Chrome with the proxy\n",
    "chrome_options = webdriver.ChromeOptions()\n",
    "chrome_options.add_argument(f'--proxy-server={proxy.proxy}')\n",
    "chrome_options.add_argument('--ignore-certificate-errors')\n",
    "chrome_options.add_argument('--headless')\n",
    "driver = webdriver.Chrome(options=chrome_options)\n",
    "# Navigate to the website\n",
    "driver.get(\"https://nfl.com/scores\")\n",
    "\n",
    "# Start capturing network traffic\n",
    "proxy.new_har(\"nfl\", options={'captureHeaders': True})\n",
    "\n",
    "# Wait for the header with the name \"Authorization\"\n",
    "timeout = 60  # Adjust the timeout as needed\n",
    "def get_auth_token():\n",
    "    start_time = time.time()\n",
    "    while time.time() - start_time < timeout:\n",
    "        har = proxy.har\n",
    "        for entry in har['log']['entries']:\n",
    "            request_headers = entry['request']['headers']\n",
    "            for header in request_headers:\n",
    "                if header['name'] == 'Authorization':\n",
    "                    return header['value']\n",
    "        time.sleep(1)\n",
    "    return None\n",
    "auth_token = get_auth_token()\n",
    "\n",
    "# Store the auth token\n",
    "auth_path = 'auth.json'\n",
    "auth_json = {\n",
    "    'time': time.time(),\n",
    "    'token': auth_token\n",
    "}\n",
    "with open(auth_path, 'w') as f:\n",
    "    json.dump(auth_json, f)\n",
    "\n",
    "# Stop capturing network traffic\n",
    "har = proxy.har\n",
    "\n",
    "# Close the browser and BrowserMob Proxy\n",
    "driver.quit()\n",
    "server.stop()"
   ]
  },
  {
   "cell_type": "markdown",
   "metadata": {},
   "source": [
    "### 1.2 Create a class that manages requests to nfl.com"
   ]
  },
  {
   "cell_type": "code",
   "execution_count": 5,
   "metadata": {},
   "outputs": [],
   "source": [
    "from nfl_client import NFLClient\n",
    "client = NFLClient(headless=True)"
   ]
  },
  {
   "cell_type": "code",
   "execution_count": 7,
   "metadata": {},
   "outputs": [
    {
     "name": "stdout",
     "output_type": "stream",
     "text": [
      "Auth Token: Bearer eyJ0eXAiOiJKV1QiLCJhbGciOiJIUzI1NiJ9.eyJjbGllbnRJZCI6ImU1MzVjN2MwLTgxN2YtNDc3Ni04OTkwLTU2NTU2ZjhiMTkyOCIsImNsaWVudEtleSI6IjRjRlVXNkRtd0pwelQ5TDdMckczcVJBY0FCRzVzMDRnIiwiaXNzIjoiTkZMIiwiZGV2aWNlSWQiOiI0YTIzZGM2My00YmQ2LTQ0OTMtYWVmNC0yNDk0OGRkNGMxYTUiLCJwbGFucyI6W3sicGxhbiI6ImZyZWUiLCJleHBpcmF0aW9uRGF0ZSI6IjIwMjQtMTEtMDQiLCJzb3VyY2UiOiJORkwiLCJzdGFydERhdGUiOiIyMDIzLTExLTA1Iiwic3RhdHVzIjoiQUNUSVZFIiwidHJpYWwiOmZhbHNlfV0sIkRpc3BsYXlOYW1lIjoiV0VCX0RFU0tUT1BfREVTS1RPUCIsIk5vdGVzIjoiIiwiZm9ybUZhY3RvciI6IkRFU0tUT1AiLCJsdXJhQXBwS2V5IjoiU1pzNTdkQkdSeGJMNzI4bFZwN0RZUSIsInBsYXRmb3JtIjoiREVTS1RPUCIsInByb2R1Y3ROYW1lIjoiV0VCIiwiY2l0eSI6ImFwcGxlIHZhbGxleSIsImNvdW50cnlDb2RlIjoiVVMiLCJkbWFDb2RlIjoiODAzIiwiaG1hVGVhbXMiOlsiMTA0MDI1MTAtODkzMS0wZDVmLTk4MTUtNzliYjc5NjQ5YTY1IiwiMTA0MDI1MjAtOTZiZi1lOWYyLTRmNjgtODUyMWNhODk2MDYwIiwiMTA0MDQ0MDAtM2IzNS0wNzNmLTE5N2UtMTk0YmI4MjQwNzIzIl0sInJlZ2lvbiI6IkNBIiwiYnJvd3NlciI6IkNocm9tZSBIZWFkbGVzcyIsImNlbGx1bGFyIjpmYWxzZSwiZW52aXJvbm1lbnQiOiJwcm9kdWN0aW9uIiwicm9sZXMiOlsiZnJlZSJdLCJleHAiOjE2OTkxNjQ3MTh9.l60UboGxeZ4ma5dfBircoc9ok_X25aerWyTFFxYTJjo\n"
     ]
    }
   ],
   "source": [
    "client.load_auth_token(store_har=True)\n",
    "print('Auth Token:', client.auth_token)"
   ]
  },
  {
   "cell_type": "markdown",
   "metadata": {},
   "source": [
    "### 1.3 Prepare url endpoints into json version for openapi"
   ]
  },
  {
   "cell_type": "code",
   "execution_count": 16,
   "metadata": {},
   "outputs": [
    {
     "data": {
      "text/plain": [
       "{'/football/v2/games/{id}': {'query_parameters': {'withExternalIds': {'type': 'boolean',\n",
       "    'example': 'true'},\n",
       "   'int_item': {'type': 'integer', 'example': 4},\n",
       "   'num_item': {'type': 'number', 'example': 3.2}},\n",
       "  'path_parameters': {'id': {'type': 'string',\n",
       "    'example': 'b07eb396-f053-11ed-b4a7-bab79e4492fa'}}}}"
      ]
     },
     "execution_count": 16,
     "metadata": {},
     "output_type": "execute_result"
    }
   ],
   "source": [
    "from urllib.parse import urlparse, parse_qs\n",
    "import re\n",
    "\n",
    "\n",
    "id_re = re.compile(r\"([0-9a-fA-F]{8}-[0-9a-fA-F]{4}-[0-9a-fA-F]{4}-[0-9a-fA-F]{4}-[0-9a-fA-F]{12})\")\n",
    "\n",
    "def urlparse_json(url):\n",
    "    r = urlparse(url)\n",
    "    id_match = id_re.search(r.path)\n",
    "    path = r.path\n",
    "    query_params = {}\n",
    "    for key, item in parse_qs(r.query).items():\n",
    "        item_type = 'string'\n",
    "        example = ''\n",
    "        if len(item) > 1:\n",
    "            item_type = 'array'\n",
    "            example = ','.join(item)\n",
    "        if len(item) == 1:\n",
    "            example = item[0]\n",
    "            try:\n",
    "                example = float(item[0])\n",
    "                item_type = 'number'\n",
    "            except:\n",
    "                pass\n",
    "            try:\n",
    "                example = int(item[0])\n",
    "                item_type = 'integer'\n",
    "            except:\n",
    "                pass\n",
    "            if item[0] in ['true', 'false']:\n",
    "                item_type = 'boolean'\n",
    "        query_params.update({\n",
    "            key: {\n",
    "                'type': item_type,\n",
    "                'example': example\n",
    "            }\n",
    "        })\n",
    "    path_params = {}\n",
    "    if id_match:\n",
    "        uuid = id_match.group(0)\n",
    "        path = r.path.replace(uuid, '{id}')\n",
    "        path_params = {'id': {'type': 'string', 'example': uuid}}\n",
    "    return {\n",
    "        path: {\n",
    "            'query_parameters': query_params,\n",
    "            'path_parameters': path_params\n",
    "        }\n",
    "    }\n",
    "\n",
    "url = 'https://api.nfl.com/football/v2/games/b07eb396-f053-11ed-b4a7-bab79e4492fa?withExternalIds=true&int_item=4&num_item=3.2'\n",
    "url_data = urlparse_json(url)\n",
    "url_data"
   ]
  },
  {
   "cell_type": "markdown",
   "metadata": {},
   "source": [
    "#### 1.3.1 Create something to convert this into openapi"
   ]
  },
  {
   "cell_type": "code",
   "execution_count": 18,
   "metadata": {},
   "outputs": [],
   "source": [
    "import yaml\n",
    "\n",
    "def add_api_component(openapi_spec, path, info):\n",
    "    path_parameters = info['path_parameters']\n",
    "    query_parameters = info['query_parameters']\n",
    "    openapi_spec['paths'].update({\n",
    "        path: {\n",
    "            'get': {\n",
    "                'parameters': [],\n",
    "                'responses': {\n",
    "                    '200': {\n",
    "                        'description': 'Successful response',\n",
    "                    },\n",
    "                },\n",
    "            },\n",
    "        },\n",
    "    })\n",
    "\n",
    "    if path_parameters:\n",
    "        for param_name, param_details in path_parameters.items():\n",
    "            openapi_spec['paths'][path]['get']['parameters'].append({\n",
    "                'name': param_name,\n",
    "                'in': 'path',\n",
    "                'required': True,\n",
    "                'schema': {\n",
    "                    'type': param_details['type'],\n",
    "                },\n",
    "                'description': f'The {param_name} parameter',\n",
    "                'example': param_details['example']\n",
    "            })\n",
    "\n",
    "    if query_parameters:\n",
    "        for param_name, param_details in query_parameters.items():\n",
    "            openapi_spec['paths'][path]['get']['parameters'].append({\n",
    "                'name': param_name,\n",
    "                'in': 'query',\n",
    "                'schema': {\n",
    "                    'type': param_details['type'],\n",
    "                },\n",
    "                'description': f'The {param_name} parameter',\n",
    "                'example': param_details['example']\n",
    "            })\n",
    "\n",
    "\n",
    "def generate_openapi_spec(url_json):\n",
    "    openapi_spec = {\n",
    "        'openapi': '3.0.0',\n",
    "        'info': {\n",
    "            'title': 'NFL API',\n",
    "            'version': '1.0.0',\n",
    "        },\n",
    "        'paths': {}\n",
    "    } \n",
    "    for path, info in url_json.items():\n",
    "        add_api_component(openapi_spec, path, info)\n",
    "    return yaml.dump(openapi_spec, default_flow_style=False)\n",
    "\n",
    "# Example\n",
    "\n",
    "openapi_yaml = generate_openapi_spec(url_data)\n",
    "with open('openapi.yaml', 'w') as f:\n",
    "    f.write(openapi_yaml)"
   ]
  },
  {
   "cell_type": "markdown",
   "metadata": {},
   "source": [
    "#### 1.3.2 Put it all together"
   ]
  },
  {
   "cell_type": "code",
   "execution_count": null,
   "metadata": {},
   "outputs": [],
   "source": [
    "from nfl_client import NFLClient\n",
    "client = NFLClient()\n",
    "client.download_endpoints()"
   ]
  },
  {
   "cell_type": "markdown",
   "metadata": {},
   "source": [
    "### 1.2 Get team data through the teams endpoint"
   ]
  },
  {
   "cell_type": "code",
   "execution_count": 35,
   "metadata": {},
   "outputs": [
    {
     "data": {
      "text/plain": [
       "<Response [200]>"
      ]
     },
     "execution_count": 35,
     "metadata": {},
     "output_type": "execute_result"
    }
   ],
   "source": [
    "api_url = 'https://api.nfl.com/football/v2/teams?limit=100&season=2023'\n",
    "request(api_url)"
   ]
  },
  {
   "cell_type": "code",
   "execution_count": null,
   "metadata": {},
   "outputs": [],
   "source": []
  }
 ],
 "metadata": {
  "kernelspec": {
   "display_name": "Python 3",
   "language": "python",
   "name": "python3"
  },
  "language_info": {
   "codemirror_mode": {
    "name": "ipython",
    "version": 3
   },
   "file_extension": ".py",
   "mimetype": "text/x-python",
   "name": "python",
   "nbconvert_exporter": "python",
   "pygments_lexer": "ipython3",
   "version": "3.10.9"
  }
 },
 "nbformat": 4,
 "nbformat_minor": 2
}
