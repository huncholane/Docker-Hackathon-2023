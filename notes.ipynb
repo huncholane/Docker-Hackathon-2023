{
 "cells": [
  {
   "cell_type": "markdown",
   "metadata": {},
   "source": [
    "## 1. Set up the scraper\n",
    "* Download data from nfl.com\n",
    "* Use internal api with Bearer Key"
   ]
  },
  {
   "cell_type": "markdown",
   "metadata": {},
   "source": [
    "### 1.1 Get a working example for Bearer token"
   ]
  },
  {
   "cell_type": "code",
   "execution_count": 2,
   "metadata": {},
   "outputs": [],
   "source": [
    "import time\n",
    "from browsermobproxy import Server\n",
    "from selenium import webdriver\n",
    "import json\n",
    "import os\n",
    "BMP_PATH = os.path.abspath('browsermob-proxy-2.1.4/bin/browsermob-proxy.bat')\n",
    "\n",
    "# Start BrowserMob Proxy\n",
    "server = Server(BMP_PATH)\n",
    "server.start()\n",
    "proxy = server.create_proxy()\n",
    "\n",
    "# Configure Chrome with the proxy\n",
    "chrome_options = webdriver.ChromeOptions()\n",
    "chrome_options.add_argument(f'--proxy-server={proxy.proxy}')\n",
    "chrome_options.add_argument('--ignore-certificate-errors')\n",
    "chrome_options.add_argument('--headless')\n",
    "driver = webdriver.Chrome(options=chrome_options)\n",
    "# Navigate to the website\n",
    "driver.get(\"https://nfl.com/scores\")\n",
    "\n",
    "# Start capturing network traffic\n",
    "proxy.new_har(\"nfl\", options={'captureHeaders': True})\n",
    "\n",
    "# Wait for the header with the name \"Authorization\"\n",
    "timeout = 60  # Adjust the timeout as needed\n",
    "def get_auth_token():\n",
    "    start_time = time.time()\n",
    "    while time.time() - start_time < timeout:\n",
    "        har = proxy.har\n",
    "        for entry in har['log']['entries']:\n",
    "            request_headers = entry['request']['headers']\n",
    "            for header in request_headers:\n",
    "                if header['name'] == 'Authorization':\n",
    "                    return header['value']\n",
    "        time.sleep(1)\n",
    "    return None\n",
    "auth_token = get_auth_token()\n",
    "\n",
    "# Store the auth token\n",
    "auth_path = 'auth.json'\n",
    "auth_json = {\n",
    "    'time': time.time(),\n",
    "    'token': auth_token\n",
    "}\n",
    "with open(auth_path, 'w') as f:\n",
    "    json.dump(auth_json, f)\n",
    "\n",
    "# Stop capturing network traffic\n",
    "har = proxy.har\n",
    "\n",
    "# Close the browser and BrowserMob Proxy\n",
    "driver.quit()\n",
    "server.stop()"
   ]
  },
  {
   "cell_type": "markdown",
   "metadata": {},
   "source": [
    "### 1.2 Create a class that manages requests to nfl.com"
   ]
  },
  {
   "cell_type": "code",
   "execution_count": 5,
   "metadata": {},
   "outputs": [],
   "source": [
    "import time\n",
    "from browsermobproxy import Server\n",
    "from selenium import webdriver\n",
    "from pathlib import Path\n",
    "import json\n",
    "import requests\n",
    "import os\n",
    "\n",
    "class NFLClient():\n",
    "    \"\"\"Manages access to the nfl.com api\"\"\"\n",
    "    BMP_PATH = os.path.abspath('browsermob-proxy-2.1.4/bin/browsermob-proxy.bat')\n",
    "    AUTH_PATH = Path('auth.json')\n",
    "    AUTH_ENDPOINT = 'https://nfl.com/scores'\n",
    "    API_ROOT = 'https://api.nfl.com'\n",
    "    HAR_DIR = Path('nfl_client_data/har_files')\n",
    "    URL_JSON_PATH = Path('nfl_client_data/urls.json')\n",
    "    TOKEN_EXPIRE_RATE = 60*60\n",
    "    TOKEN_AUTH_TIMEOUT = 60\n",
    "\n",
    "    # Har download variables\n",
    "    har = {}\n",
    "    har_path = None\n",
    "    server = None\n",
    "    proxy = None\n",
    "    driver = None\n",
    "\n",
    "    # Auth variables\n",
    "    auth_token = None\n",
    "    last_auth_download_time = 0\n",
    "    headers = {}\n",
    "\n",
    "    def __init__(self):\n",
    "        os.makedirs(self.HAR_DIR, exist_ok=True)\n",
    "\n",
    "    def load_auth_token(self):\n",
    "        \"\"\"Loads the auth token into the client.\"\"\"\n",
    "        if os.path.exists(self.AUTH_PATH):\n",
    "            with open(self.AUTH_PATH, 'r') as f:\n",
    "                auth_json = json.load(f)\n",
    "            self.auth_token = auth_json['token']\n",
    "            self.last_auth_download_time = auth_json['time']\n",
    "        if self.last_auth_download_time < time.time()-self.TOKEN_EXPIRE_RATE or not self.auth_token:\n",
    "            self.download_auth_token()\n",
    "\n",
    "    def prep_proxy(self, endpoint=None):\n",
    "        \"\"\"Prepares the driver and proxy to get the har\"\"\"\n",
    "        if not endpoint:\n",
    "            endpoint = self.AUTH_ENDPOINT\n",
    "        print(f'Getting the {endpoint} proxy')\n",
    "        # Start BrowserMob Proxy\n",
    "        self.server = Server(self.BMP_PATH)\n",
    "        self.server.start()\n",
    "        self.proxy = self.server.create_proxy()\n",
    "\n",
    "        # Configure Chrome with the proxy\n",
    "        chrome_options = webdriver.ChromeOptions()\n",
    "        chrome_options.add_argument(f'--proxy-server={self.proxy.proxy}')\n",
    "        chrome_options.add_argument('--ignore-certificate-errors')\n",
    "        chrome_options.add_argument('--headless')\n",
    "        self.driver = webdriver.Chrome(options=chrome_options)\n",
    "        # Navigate to the website\n",
    "        self.driver.get(endpoint)\n",
    "\n",
    "        # Start capturing network traffic\n",
    "        self.proxy.new_har(\"nfl\", options={'captureHeaders': True})\n",
    "\n",
    "        # Create the path for storing har data\n",
    "        try:\n",
    "            raw_path = endpoint.split('.com')[1]\n",
    "            raw_path = raw_path.split('?')[0]\n",
    "            str_path = raw_path.replace('/', '__')\n",
    "        except:\n",
    "            str_path = 'nfl'\n",
    "        self.har_path = Path(str_path+'.har')\n",
    "\n",
    "    def close_proxy(self):\n",
    "        \"\"\"Closes the driver and proxy\"\"\"\n",
    "        self.server.stop()\n",
    "        self.driver.quit()\n",
    "\n",
    "    def wait_for_auth_token(self):\n",
    "        \"\"\"Downloads the auth token using the scores page of nfl.com\"\"\"\n",
    "        # Wait for the header with the name \"Authorization\"\n",
    "        def get_auth_token():\n",
    "            start_time = time.time()\n",
    "            while time.time() - start_time < self.TOKEN_AUTH_TIMEOUT:\n",
    "                self.har = self.proxy.har\n",
    "                for entry in self.har['log']['entries']:\n",
    "                    request_headers = entry['request']['headers']\n",
    "                    for header in request_headers:\n",
    "                        if header['name'] == 'Authorization':\n",
    "                            return header['value']\n",
    "                time.sleep(1)\n",
    "            return None\n",
    "        self.auth_token = get_auth_token()\n",
    "\n",
    "    def store_auth_token(self):\n",
    "        \"\"\"Stores the current auth token\"\"\"\n",
    "        # Store the auth token\n",
    "        self.time = time.time()\n",
    "        auth_json = {\n",
    "            'time': self.time,\n",
    "            'token': self.auth_token\n",
    "        }\n",
    "        with open(self.AUTH_PATH, 'w') as f:\n",
    "            json.dump(auth_json, f)\n",
    "\n",
    "    def store_har(self):\n",
    "        \"\"\"Stores the current har\"\"\"\n",
    "        # Store the har as well\n",
    "        with open(self.har_path, 'w') as f:\n",
    "            json.dump(self.har, f)\n",
    "\n",
    "    def download_auth_token(self):\n",
    "        \"\"\"Downloads the auth token\"\"\"\n",
    "        self.prep_proxy()         \n",
    "        self.wait_for_auth_token()\n",
    "        self.store_auth_token()\n",
    "        self.store_har()\n",
    "\n",
    "    def download_endpoints(self, endpoint=None):\n",
    "        \"\"\"Downloads the endpoints found in har, stores json, updates readme, updates Mixin for the class\"\"\"\n",
    "        if not self.har:\n",
    "            self.prep_proxy(endpoint)\n",
    "            self.wait_for_auth_token()\n",
    "            self.store_auth_token()\n",
    "            self.store_har()\n",
    "            self.close_proxy()\n",
    "\n",
    "        # Gather the list of endpoints\n",
    "        url_list = []\n",
    "        for entry in self.har['log']['entries']:\n",
    "            request = entry['request']\n",
    "            raw_url = request['url']\n",
    "            if self.API_ROOT in raw_url:\n",
    "                url_split = raw_url.split('?')\n",
    "                full_url = url_split[0]\n",
    "                new_endpoint = ''\n",
    "                base_split = full_url.split('.com') \n",
    "                if len(base_split) > 1:\n",
    "                    new_endpoint = base_split[1]\n",
    "                param_list = []\n",
    "                if len(url_split) > 1:\n",
    "                    for param in url_split[1]:\n",
    "                        param, val = param.split('=')\n",
    "                        param_list.append({\n",
    "                            'param': param,\n",
    "                            'val': val\n",
    "                        }) \n",
    "                url_list.append({\n",
    "                    'raw_url': raw_url,\n",
    "                    'endpoint': new_endpoint,\n",
    "                    'params': param_list\n",
    "                })\n",
    "\n",
    "        # Store the url list json\n",
    "        with open(self.URL_JSON_PATH, 'w') as f:\n",
    "            json.dump(url_list, f)\n",
    "\n",
    "    def request(self, endpoint) -> dict:\n",
    "        \"\"\"Request an endpoint\"\"\"\n",
    "        self.load_auth_token()\n",
    "        try:\n",
    "            return requests.get(endpoint, headers=self.headers)\n",
    "        except Exception as e:\n",
    "            return {\n",
    "                'error': e\n",
    "            }   "
   ]
  },
  {
   "cell_type": "code",
   "execution_count": 6,
   "metadata": {},
   "outputs": [
    {
     "name": "stdout",
     "output_type": "stream",
     "text": [
      "Getting the https://nfl.com/scores proxy\n"
     ]
    },
    {
     "data": {
      "text/plain": [
       "'Bearer eyJ0eXAiOiJKV1QiLCJhbGciOiJIUzI1NiJ9.eyJjbGllbnRJZCI6ImU1MzVjN2MwLTgxN2YtNDc3Ni04OTkwLTU2NTU2ZjhiMTkyOCIsImNsaWVudEtleSI6IjRjRlVXNkRtd0pwelQ5TDdMckczcVJBY0FCRzVzMDRnIiwiaXNzIjoiTkZMIiwiZGV2aWNlSWQiOiJlZDgyNWI5Yi1jNDg3LTQyZTEtYTc5Mi1iNjg0NDQ1NzNhODYiLCJwbGFucyI6W3sicGxhbiI6ImZyZWUiLCJleHBpcmF0aW9uRGF0ZSI6IjIwMjQtMTEtMDQiLCJzb3VyY2UiOiJORkwiLCJzdGFydERhdGUiOiIyMDIzLTExLTA1Iiwic3RhdHVzIjoiQUNUSVZFIiwidHJpYWwiOmZhbHNlfV0sIkRpc3BsYXlOYW1lIjoiV0VCX0RFU0tUT1BfREVTS1RPUCIsIk5vdGVzIjoiIiwiZm9ybUZhY3RvciI6IkRFU0tUT1AiLCJsdXJhQXBwS2V5IjoiU1pzNTdkQkdSeGJMNzI4bFZwN0RZUSIsInBsYXRmb3JtIjoiREVTS1RPUCIsInByb2R1Y3ROYW1lIjoiV0VCIiwiY2l0eSI6ImFwcGxlIHZhbGxleSIsImNvdW50cnlDb2RlIjoiVVMiLCJkbWFDb2RlIjoiODAzIiwiaG1hVGVhbXMiOlsiMTA0MDI1MTAtODkzMS0wZDVmLTk4MTUtNzliYjc5NjQ5YTY1IiwiMTA0MDI1MjAtOTZiZi1lOWYyLTRmNjgtODUyMWNhODk2MDYwIiwiMTA0MDQ0MDAtM2IzNS0wNzNmLTE5N2UtMTk0YmI4MjQwNzIzIl0sInJlZ2lvbiI6IkNBIiwiYnJvd3NlciI6IkNocm9tZSBIZWFkbGVzcyIsImNlbGx1bGFyIjpmYWxzZSwiZW52aXJvbm1lbnQiOiJwcm9kdWN0aW9uIiwicm9sZXMiOlsiZnJlZSJdLCJleHAiOjE2OTkxNTQ4Njl9.ih91tmgBQpKg3odtcqvg9-KUW5gje52Te8lu1wZyK5g'"
      ]
     },
     "execution_count": 6,
     "metadata": {},
     "output_type": "execute_result"
    }
   ],
   "source": [
    "client = NFLClient()\n",
    "client.load_auth_token()\n",
    "client.auth_token"
   ]
  },
  {
   "cell_type": "code",
   "execution_count": null,
   "metadata": {},
   "outputs": [],
   "source": []
  },
  {
   "cell_type": "code",
   "execution_count": 103,
   "metadata": {},
   "outputs": [
    {
     "data": {
      "text/plain": [
       "'Bearer eyJ0eXAiOiJKV1QiLCJhbGciOiJIUzI1NiJ9.eyJjbGllbnRJZCI6ImU1MzVjN2MwLTgxN2YtNDc3Ni04OTkwLTU2NTU2ZjhiMTkyOCIsImNsaWVudEtleSI6IjRjRlVXNkRtd0pwelQ5TDdMckczcVJBY0FCRzVzMDRnIiwiaXNzIjoiTkZMIiwiZGV2aWNlSWQiOiI3ZWRmZDk4Yy03MDY0LTQyMTUtYjFiMi0yOTY4MGFhODgyNzgiLCJwbGFucyI6W3sicGxhbiI6ImZyZWUiLCJleHBpcmF0aW9uRGF0ZSI6IjIwMjQtMTEtMDQiLCJzb3VyY2UiOiJORkwiLCJzdGFydERhdGUiOiIyMDIzLTExLTA0Iiwic3RhdHVzIjoiQUNUSVZFIiwidHJpYWwiOmZhbHNlfV0sIkRpc3BsYXlOYW1lIjoiV0VCX0RFU0tUT1BfREVTS1RPUCIsIk5vdGVzIjoiIiwiZm9ybUZhY3RvciI6IkRFU0tUT1AiLCJsdXJhQXBwS2V5IjoiU1pzNTdkQkdSeGJMNzI4bFZwN0RZUSIsInBsYXRmb3JtIjoiREVTS1RPUCIsInByb2R1Y3ROYW1lIjoiV0VCIiwiY2l0eSI6ImFwcGxlIHZhbGxleSIsImNvdW50cnlDb2RlIjoiVVMiLCJkbWFDb2RlIjoiODAzIiwiaG1hVGVhbXMiOlsiMTA0MDI1MTAtODkzMS0wZDVmLTk4MTUtNzliYjc5NjQ5YTY1IiwiMTA0MDI1MjAtOTZiZi1lOWYyLTRmNjgtODUyMWNhODk2MDYwIiwiMTA0MDQ0MDAtM2IzNS0wNzNmLTE5N2UtMTk0YmI4MjQwNzIzIl0sInJlZ2lvbiI6IkNBIiwiYnJvd3NlciI6IkNocm9tZSIsImNlbGx1bGFyIjpmYWxzZSwiZW52aXJvbm1lbnQiOiJwcm9kdWN0aW9uIiwicm9sZXMiOlsiZnJlZSJdLCJleHAiOjE2OTkxNDA3OTB9.L9qs6t9J4yU89RO4Jq1u3YUEIxsmxQ4ffZeXzmHlGn0'"
      ]
     },
     "execution_count": 103,
     "metadata": {},
     "output_type": "execute_result"
    }
   ],
   "source": [
    "import json\n",
    "\n",
    "\n",
    "def get_token():\n",
    "    with open('nfl.har', 'r') as f:\n",
    "        har_json = json.load(f)\n",
    "    for entry in har_json['log']['entries']:\n",
    "        for header in entry['request']['headers']:\n",
    "            if header['name'].lower() == 'authorization':\n",
    "                return header['value']\n",
    "get_token()\n"
   ]
  },
  {
   "cell_type": "code",
   "execution_count": 93,
   "metadata": {},
   "outputs": [
    {
     "name": "stdout",
     "output_type": "stream",
     "text": [
      "Authorization header found in the HAR\n"
     ]
    }
   ],
   "source": [
    "from browsermobproxy import Server\n",
    "from selenium import webdriver\n",
    "from selenium.webdriver.common.by import By\n",
    "from selenium.webdriver.support.ui import WebDriverWait\n",
    "from selenium.webdriver.support import expected_conditions as EC\n",
    "\n",
    "# Start BrowserMob Proxy\n",
    "server = Server(BMP_PATH)\n",
    "server.start()\n",
    "proxy = server.create_proxy()\n",
    "\n",
    "# Configure Chrome with the proxy\n",
    "chrome_options = webdriver.ChromeOptions()\n",
    "chrome_options.add_argument(f'--proxy-server={proxy.proxy}')\n",
    "chrome_options.add_argument('--ignore-certificate-errors')\n",
    "driver = webdriver.Chrome(options=chrome_options)\n",
    "\n",
    "# Navigate to the website\n",
    "driver.get(\"https://nfl.com\")\n",
    "\n",
    "# Start capturing network traffic\n",
    "proxy.new_har(\"nfl\", options={'captureHeaders': True})\n",
    "\n",
    "# Perform interactions on the website as needed\n",
    "\n",
    "# Wait for the \"Authorization\" header to appear in the HAR\n",
    "def is_authorization_in_har(har):\n",
    "    for entry in har['log']['entries']:\n",
    "        for header in entry['request']['headers']:\n",
    "            if header['name'] == 'Authorization':\n",
    "                return True\n",
    "    return False\n",
    "\n",
    "wait = WebDriverWait(driver, 60)  # Adjust the timeout as needed\n",
    "try:\n",
    "    wait.until(lambda driver: is_authorization_in_har(proxy.har))\n",
    "    print(\"Authorization header found in the HAR\")\n",
    "except Exception:\n",
    "    print(\"Authorization header not found in the HAR\")\n",
    "\n",
    "# Close the browser and BrowserMob Proxy\n",
    "driver.quit()\n",
    "server.stop()\n"
   ]
  },
  {
   "cell_type": "code",
   "execution_count": 38,
   "metadata": {},
   "outputs": [],
   "source": [
    "from selenium import webdriver\n",
    "\n",
    "\n",
    "options = webdriver.ChromeOptions()\n",
    "options.add_argument('--headless')\n",
    "\n",
    "driver = webdriver.Chrome(options)\n",
    "\n",
    "root_url = 'https://google.com'\n",
    "root_url = 'https://nfl.com'\n",
    "driver.get(root_url)"
   ]
  },
  {
   "cell_type": "code",
   "execution_count": 48,
   "metadata": {},
   "outputs": [
    {
     "ename": "WebDriverException",
     "evalue": "Message: unknown error: network conditions must be set before it can be retrieved\n  (Session info: headless chrome=118.0.5993.120)\nStacktrace:\n\tGetHandleVerifier [0x00007FF7D1028EF2+54786]\n\t(No symbol) [0x00007FF7D0F95612]\n\t(No symbol) [0x00007FF7D0E4A64B]\n\t(No symbol) [0x00007FF7D0EB8E10]\n\t(No symbol) [0x00007FF7D0EABE30]\n\t(No symbol) [0x00007FF7D0E80941]\n\t(No symbol) [0x00007FF7D0E81B84]\n\tGetHandleVerifier [0x00007FF7D1377F52+3524194]\n\tGetHandleVerifier [0x00007FF7D13CD800+3874576]\n\tGetHandleVerifier [0x00007FF7D13C5D7F+3843215]\n\tGetHandleVerifier [0x00007FF7D10C5086+694166]\n\t(No symbol) [0x00007FF7D0FA0A88]\n\t(No symbol) [0x00007FF7D0F9CA94]\n\t(No symbol) [0x00007FF7D0F9CBC2]\n\t(No symbol) [0x00007FF7D0F8CC83]\n\tBaseThreadInitThunk [0x00007FFD49F27344+20]\n\tRtlUserThreadStart [0x00007FFD4A5E26B1+33]\n",
     "output_type": "error",
     "traceback": [
      "\u001b[1;31m---------------------------------------------------------------------------\u001b[0m",
      "\u001b[1;31mWebDriverException\u001b[0m                        Traceback (most recent call last)",
      "\u001b[1;32mc:\\Users\\huncho\\code\\hackathons\\DockerAiHackathon\\main.ipynb Cell 4\u001b[0m line \u001b[0;36m1\n\u001b[1;32m----> <a href='vscode-notebook-cell:/c%3A/Users/huncho/code/hackathons/DockerAiHackathon/main.ipynb#X11sZmlsZQ%3D%3D?line=0'>1</a>\u001b[0m driver\u001b[39m.\u001b[39;49mget_network_conditions()\n",
      "File \u001b[1;32mc:\\Users\\huncho\\AppData\\Local\\Programs\\Python\\Python310\\lib\\site-packages\\selenium\\webdriver\\chromium\\webdriver.py:82\u001b[0m, in \u001b[0;36mChromiumDriver.get_network_conditions\u001b[1;34m(self)\u001b[0m\n\u001b[0;32m     75\u001b[0m \u001b[39mdef\u001b[39;00m \u001b[39mget_network_conditions\u001b[39m(\u001b[39mself\u001b[39m):\n\u001b[0;32m     76\u001b[0m     \u001b[39m\"\"\"Gets Chromium network emulation settings.\u001b[39;00m\n\u001b[0;32m     77\u001b[0m \n\u001b[0;32m     78\u001b[0m \u001b[39m    :Returns:     A dict. For example:     {'latency': 4,\u001b[39;00m\n\u001b[0;32m     79\u001b[0m \u001b[39m    'download_throughput': 2, 'upload_throughput': 2,     'offline':\u001b[39;00m\n\u001b[0;32m     80\u001b[0m \u001b[39m    False}\u001b[39;00m\n\u001b[0;32m     81\u001b[0m \u001b[39m    \"\"\"\u001b[39;00m\n\u001b[1;32m---> 82\u001b[0m     \u001b[39mreturn\u001b[39;00m \u001b[39mself\u001b[39;49m\u001b[39m.\u001b[39;49mexecute(\u001b[39m\"\u001b[39;49m\u001b[39mgetNetworkConditions\u001b[39;49m\u001b[39m\"\u001b[39;49m)[\u001b[39m\"\u001b[39m\u001b[39mvalue\u001b[39m\u001b[39m\"\u001b[39m]\n",
      "File \u001b[1;32mc:\\Users\\huncho\\AppData\\Local\\Programs\\Python\\Python310\\lib\\site-packages\\selenium\\webdriver\\remote\\webdriver.py:347\u001b[0m, in \u001b[0;36mWebDriver.execute\u001b[1;34m(self, driver_command, params)\u001b[0m\n\u001b[0;32m    345\u001b[0m response \u001b[39m=\u001b[39m \u001b[39mself\u001b[39m\u001b[39m.\u001b[39mcommand_executor\u001b[39m.\u001b[39mexecute(driver_command, params)\n\u001b[0;32m    346\u001b[0m \u001b[39mif\u001b[39;00m response:\n\u001b[1;32m--> 347\u001b[0m     \u001b[39mself\u001b[39;49m\u001b[39m.\u001b[39;49merror_handler\u001b[39m.\u001b[39;49mcheck_response(response)\n\u001b[0;32m    348\u001b[0m     response[\u001b[39m\"\u001b[39m\u001b[39mvalue\u001b[39m\u001b[39m\"\u001b[39m] \u001b[39m=\u001b[39m \u001b[39mself\u001b[39m\u001b[39m.\u001b[39m_unwrap_value(response\u001b[39m.\u001b[39mget(\u001b[39m\"\u001b[39m\u001b[39mvalue\u001b[39m\u001b[39m\"\u001b[39m, \u001b[39mNone\u001b[39;00m))\n\u001b[0;32m    349\u001b[0m     \u001b[39mreturn\u001b[39;00m response\n",
      "File \u001b[1;32mc:\\Users\\huncho\\AppData\\Local\\Programs\\Python\\Python310\\lib\\site-packages\\selenium\\webdriver\\remote\\errorhandler.py:229\u001b[0m, in \u001b[0;36mErrorHandler.check_response\u001b[1;34m(self, response)\u001b[0m\n\u001b[0;32m    227\u001b[0m         alert_text \u001b[39m=\u001b[39m value[\u001b[39m\"\u001b[39m\u001b[39malert\u001b[39m\u001b[39m\"\u001b[39m]\u001b[39m.\u001b[39mget(\u001b[39m\"\u001b[39m\u001b[39mtext\u001b[39m\u001b[39m\"\u001b[39m)\n\u001b[0;32m    228\u001b[0m     \u001b[39mraise\u001b[39;00m exception_class(message, screen, stacktrace, alert_text)  \u001b[39m# type: ignore[call-arg]  # mypy is not smart enough here\u001b[39;00m\n\u001b[1;32m--> 229\u001b[0m \u001b[39mraise\u001b[39;00m exception_class(message, screen, stacktrace)\n",
      "\u001b[1;31mWebDriverException\u001b[0m: Message: unknown error: network conditions must be set before it can be retrieved\n  (Session info: headless chrome=118.0.5993.120)\nStacktrace:\n\tGetHandleVerifier [0x00007FF7D1028EF2+54786]\n\t(No symbol) [0x00007FF7D0F95612]\n\t(No symbol) [0x00007FF7D0E4A64B]\n\t(No symbol) [0x00007FF7D0EB8E10]\n\t(No symbol) [0x00007FF7D0EABE30]\n\t(No symbol) [0x00007FF7D0E80941]\n\t(No symbol) [0x00007FF7D0E81B84]\n\tGetHandleVerifier [0x00007FF7D1377F52+3524194]\n\tGetHandleVerifier [0x00007FF7D13CD800+3874576]\n\tGetHandleVerifier [0x00007FF7D13C5D7F+3843215]\n\tGetHandleVerifier [0x00007FF7D10C5086+694166]\n\t(No symbol) [0x00007FF7D0FA0A88]\n\t(No symbol) [0x00007FF7D0F9CA94]\n\t(No symbol) [0x00007FF7D0F9CBC2]\n\t(No symbol) [0x00007FF7D0F8CC83]\n\tBaseThreadInitThunk [0x00007FFD49F27344+20]\n\tRtlUserThreadStart [0x00007FFD4A5E26B1+33]\n"
     ]
    }
   ],
   "source": [
    "driver.get_network_conditions()"
   ]
  },
  {
   "cell_type": "code",
   "execution_count": 50,
   "metadata": {},
   "outputs": [],
   "source": [
    "driver.quit()"
   ]
  },
  {
   "cell_type": "code",
   "execution_count": 34,
   "metadata": {},
   "outputs": [],
   "source": [
    "import requests\n",
    "import json\n",
    "\n",
    "# Define the access token\n",
    "access_token = 'eyJ0eXAiOiJKV1QiLCJhbGciOiJIUzI1NiJ9.eyJjbGllbnRJZCI6ImU1MzVjN2MwLTgxN2YtNDc3Ni04OTkwLTU2NTU2ZjhiMTkyOCIsImNsaWVudEtleSI6IjRjRlVXNkRtd0pwelQ5TDdMckczcVJBY0FCRzVzMDRnIiwiaXNzIjoiTkZMIiwiZGV2aWNlSWQiOiI5NTIzOGE1YS05MTIxLTQzNTEtOTY4MC0wNzZlN2Y2ZTQ1NmYiLCJwbGFucyI6W3sicGxhbiI6ImZyZWUiLCJleHBpcmF0aW9uRGF0ZSI6IjIwMjQtMTEtMDMiLCJzb3VyY2UiOiJORkwiLCJzdGFydERhdGUiOiIyMDIzLTExLTA0Iiwic3RhdHVzIjoiQUNUSVZFIiwidHJpYWwiOmZhbHNlfV0sIkRpc3BsYXlOYW1lIjoiV0VCX0RFU0tUT1BfREVTS1RPUCIsIk5vdGVzIjoiIiwiZm9ybUZhY3RvciI6IkRFU0tUT1AiLCJsdXJhQXBwS2V5IjoiU1pzNTdkQkdSeGJMNzI4bFZwN0RZUSIsInBsYXRmb3JtIjoiREVTS1RPUCIsInByb2R1Y3ROYW1lIjoiV0VCIiwiY2l0eSI6ImxvcyBhbmdlbGVzIiwiY291bnRyeUNvZGUiOiJVUyIsImRtYUNvZGUiOiI4MDMiLCJobWFUZWFtcyI6WyIxMDQwMjUxMC04OTMxLTBkNWYtOTgxNS03OWJiNzk2NDlhNjUiLCIxMDQwMjUyMC05NmJmLWU5ZjItNGY2OC04NTIxY2E4OTYwNjAiLCIxMDQwNDQwMC0zYjM1LTA3M2YtMTk3ZS0xOTRiYjgyNDA3MjMiXSwicmVnaW9uIjoiQ0EiLCJicm93c2VyIjoiQ2hyb21lIiwiY2VsbHVsYXIiOmZhbHNlLCJlbnZpcm9ubWVudCI6InByb2R1Y3Rpb24iLCJyb2xlcyI6WyJmcmVlIl0sImV4cCI6MTY5OTA2NTUwMH0.3a0m-SwXS5ElV9NHNFy2EXwTUDtDCzZkpdPpYs-eW_g'\n",
    "headers = {\n",
    "    'Authorization': access_token\n",
    "}\n",
    "\n",
    "def request(api_url):\n",
    "    return requests.get(api_url, headers={\n",
    "        'Authorization': access_token\n",
    "    })"
   ]
  },
  {
   "cell_type": "markdown",
   "metadata": {},
   "source": [
    "### 1.2 Get team data through the teams endpoint"
   ]
  },
  {
   "cell_type": "code",
   "execution_count": 35,
   "metadata": {},
   "outputs": [
    {
     "data": {
      "text/plain": [
       "<Response [200]>"
      ]
     },
     "execution_count": 35,
     "metadata": {},
     "output_type": "execute_result"
    }
   ],
   "source": [
    "api_url = 'https://api.nfl.com/football/v2/teams?limit=100&season=2023'\n",
    "request(api_url)"
   ]
  },
  {
   "cell_type": "code",
   "execution_count": null,
   "metadata": {},
   "outputs": [],
   "source": []
  }
 ],
 "metadata": {
  "kernelspec": {
   "display_name": "Python 3",
   "language": "python",
   "name": "python3"
  },
  "language_info": {
   "codemirror_mode": {
    "name": "ipython",
    "version": 3
   },
   "file_extension": ".py",
   "mimetype": "text/x-python",
   "name": "python",
   "nbconvert_exporter": "python",
   "pygments_lexer": "ipython3",
   "version": "3.10.9"
  }
 },
 "nbformat": 4,
 "nbformat_minor": 2
}
