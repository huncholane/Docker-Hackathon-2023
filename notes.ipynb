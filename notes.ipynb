{
 "cells": [
  {
   "cell_type": "markdown",
   "metadata": {},
   "source": [
    "## 1. Set up the scraper\n",
    "* Download data from nfl.com\n",
    "* Use internal api with Bearer Key"
   ]
  },
  {
   "cell_type": "markdown",
   "metadata": {},
   "source": [
    "### 1.1 Get a working example for Bearer token"
   ]
  },
  {
   "cell_type": "code",
   "execution_count": 2,
   "metadata": {},
   "outputs": [],
   "source": [
    "import time\n",
    "from browsermobproxy import Server\n",
    "from selenium import webdriver\n",
    "import json\n",
    "import os\n",
    "BMP_PATH = os.path.abspath('browsermob-proxy-2.1.4/bin/browsermob-proxy.bat')\n",
    "\n",
    "# Start BrowserMob Proxy\n",
    "server = Server(BMP_PATH)\n",
    "server.start()\n",
    "proxy = server.create_proxy()\n",
    "\n",
    "# Configure Chrome with the proxy\n",
    "chrome_options = webdriver.ChromeOptions()\n",
    "chrome_options.add_argument(f'--proxy-server={proxy.proxy}')\n",
    "chrome_options.add_argument('--ignore-certificate-errors')\n",
    "chrome_options.add_argument('--headless')\n",
    "driver = webdriver.Chrome(options=chrome_options)\n",
    "# Navigate to the website\n",
    "driver.get(\"https://nfl.com/scores\")\n",
    "\n",
    "# Start capturing network traffic\n",
    "proxy.new_har(\"nfl\", options={'captureHeaders': True})\n",
    "\n",
    "# Wait for the header with the name \"Authorization\"\n",
    "timeout = 60  # Adjust the timeout as needed\n",
    "def get_auth_token():\n",
    "    start_time = time.time()\n",
    "    while time.time() - start_time < timeout:\n",
    "        har = proxy.har\n",
    "        for entry in har['log']['entries']:\n",
    "            request_headers = entry['request']['headers']\n",
    "            for header in request_headers:\n",
    "                if header['name'] == 'Authorization':\n",
    "                    return header['value']\n",
    "        time.sleep(1)\n",
    "    return None\n",
    "auth_token = get_auth_token()\n",
    "\n",
    "# Store the auth token\n",
    "auth_path = 'auth.json'\n",
    "auth_json = {\n",
    "    'time': time.time(),\n",
    "    'token': auth_token\n",
    "}\n",
    "with open(auth_path, 'w') as f:\n",
    "    json.dump(auth_json, f)\n",
    "\n",
    "# Stop capturing network traffic\n",
    "har = proxy.har\n",
    "\n",
    "# Close the browser and BrowserMob Proxy\n",
    "driver.quit()\n",
    "server.stop()"
   ]
  },
  {
   "cell_type": "markdown",
   "metadata": {},
   "source": [
    "### 1.2 Create a class that manages requests to nfl.com"
   ]
  },
  {
   "cell_type": "code",
   "execution_count": 5,
   "metadata": {},
   "outputs": [],
   "source": [
    "from nfl_client import NFLClient\n",
    "client = NFLClient(headless=True)"
   ]
  },
  {
   "cell_type": "code",
   "execution_count": 7,
   "metadata": {},
   "outputs": [
    {
     "name": "stdout",
     "output_type": "stream",
     "text": [
      "Auth Token: Bearer eyJ0eXAiOiJKV1QiLCJhbGciOiJIUzI1NiJ9.eyJjbGllbnRJZCI6ImU1MzVjN2MwLTgxN2YtNDc3Ni04OTkwLTU2NTU2ZjhiMTkyOCIsImNsaWVudEtleSI6IjRjRlVXNkRtd0pwelQ5TDdMckczcVJBY0FCRzVzMDRnIiwiaXNzIjoiTkZMIiwiZGV2aWNlSWQiOiI0YTIzZGM2My00YmQ2LTQ0OTMtYWVmNC0yNDk0OGRkNGMxYTUiLCJwbGFucyI6W3sicGxhbiI6ImZyZWUiLCJleHBpcmF0aW9uRGF0ZSI6IjIwMjQtMTEtMDQiLCJzb3VyY2UiOiJORkwiLCJzdGFydERhdGUiOiIyMDIzLTExLTA1Iiwic3RhdHVzIjoiQUNUSVZFIiwidHJpYWwiOmZhbHNlfV0sIkRpc3BsYXlOYW1lIjoiV0VCX0RFU0tUT1BfREVTS1RPUCIsIk5vdGVzIjoiIiwiZm9ybUZhY3RvciI6IkRFU0tUT1AiLCJsdXJhQXBwS2V5IjoiU1pzNTdkQkdSeGJMNzI4bFZwN0RZUSIsInBsYXRmb3JtIjoiREVTS1RPUCIsInByb2R1Y3ROYW1lIjoiV0VCIiwiY2l0eSI6ImFwcGxlIHZhbGxleSIsImNvdW50cnlDb2RlIjoiVVMiLCJkbWFDb2RlIjoiODAzIiwiaG1hVGVhbXMiOlsiMTA0MDI1MTAtODkzMS0wZDVmLTk4MTUtNzliYjc5NjQ5YTY1IiwiMTA0MDI1MjAtOTZiZi1lOWYyLTRmNjgtODUyMWNhODk2MDYwIiwiMTA0MDQ0MDAtM2IzNS0wNzNmLTE5N2UtMTk0YmI4MjQwNzIzIl0sInJlZ2lvbiI6IkNBIiwiYnJvd3NlciI6IkNocm9tZSBIZWFkbGVzcyIsImNlbGx1bGFyIjpmYWxzZSwiZW52aXJvbm1lbnQiOiJwcm9kdWN0aW9uIiwicm9sZXMiOlsiZnJlZSJdLCJleHAiOjE2OTkxNjQ3MTh9.l60UboGxeZ4ma5dfBircoc9ok_X25aerWyTFFxYTJjo\n"
     ]
    }
   ],
   "source": [
    "client.load_auth_token(store_har=True)\n",
    "print('Auth Token:', client.auth_token)"
   ]
  },
  {
   "cell_type": "markdown",
   "metadata": {},
   "source": [
    "### 1.3 Convert har entry into json"
   ]
  },
  {
   "cell_type": "code",
   "execution_count": 4,
   "metadata": {},
   "outputs": [
    {
     "data": {
      "text/plain": [
       "{'/football/v2/games/{id}': {'query_parameters': {'withExternalIds': {'type': 'boolean',\n",
       "    'example': 'true'}},\n",
       "  'path_parameters': {'id': {'type': 'string',\n",
       "    'example': 'b07eaa67-f053-11ed-b4a7-bab79e4492fa'}},\n",
       "  'response_sample': {'id': 'b07eaa67-f053-11ed-b4a7-bab79e4492fa',\n",
       "   'homeTeam': {'id': '10402310-a47e-10ea-7442-16b633633637',\n",
       "    'currentLogo': 'https://static.www.nfl.com/{formatInstructions}/league/api/clubs/logos/KC',\n",
       "    'fullName': 'Kansas City Chiefs'},\n",
       "   'awayTeam': {'id': '10402700-1662-d8ad-f45c-0b0ea460d045',\n",
       "    'currentLogo': 'https://static.www.nfl.com/{formatInstructions}/league/api/clubs/logos/MIA',\n",
       "    'fullName': 'Miami Dolphins'},\n",
       "   'category': None,\n",
       "   'date': '2023-11-05',\n",
       "   'time': '2023-11-05T14:30:00Z',\n",
       "   'broadcastInfo': {'homeNetworkChannels': ['NFL NETWORK'],\n",
       "    'awayNetworkChannels': ['NFL NETWORK'],\n",
       "    'internationalWatchOptions': [{'countryCode': 'CA',\n",
       "      'broadcasters': ['DAZN Canada', 'RDS', 'TSN']},\n",
       "     {'countryCode': 'GB',\n",
       "      'broadcasters': ['Sky Sports', 'NFL Game Pass on DAZN']},\n",
       "     {'countryCode': 'MX', 'broadcasters': ['NFL Game Pass on DAZN']},\n",
       "     {'countryCode': 'DE',\n",
       "      'broadcasters': ['NFL Game Pass on DAZN', 'DAZN Germany (OTT)', 'RTL']},\n",
       "     {'countryCode': 'AU',\n",
       "      'broadcasters': ['NFL Game Pass on DAZN', 'ESPN', 'TVNZ+']},\n",
       "     {'countryCode': 'FR',\n",
       "      'broadcasters': ['NFL Game Pass on DAZN', 'beIN 2', '6Play']},\n",
       "     {'countryCode': 'BR',\n",
       "      'broadcasters': ['NFL Game Pass on DAZN', 'ESPN2']}],\n",
       "    'territory': 'NATIONAL'},\n",
       "   'neutralSite': None,\n",
       "   'venue': {'id': '00082031-5500-35b5-a67a-7f374ebf7168',\n",
       "    'name': 'Frankfurt Stadium'},\n",
       "   'season': 2023,\n",
       "   'seasonType': 'REG',\n",
       "   'status': 'SCHEDULED',\n",
       "   'week': 9,\n",
       "   'weekType': 'REG',\n",
       "   'externalIds': [{'source': 'elias', 'id': '2023110500'},\n",
       "    {'source': 'gsis', 'id': '59296'},\n",
       "    {'source': 'slug', 'id': 'dolphins-at-chiefs-2023-reg-9'}],\n",
       "   'ticketUrl': None,\n",
       "   'ticketVendors': []}}}"
      ]
     },
     "execution_count": 4,
     "metadata": {},
     "output_type": "execute_result"
    }
   ],
   "source": [
    "from nfl_client.url_utils import har_entry_parse\n",
    "import json\n",
    "with open('nfl_client_data/sample_har_entry.json', 'r') as f:\n",
    "    data = json.load(f)\n",
    "\n",
    "url_data = har_entry_parse(data)\n",
    "url_data"
   ]
  },
  {
   "cell_type": "markdown",
   "metadata": {},
   "source": [
    "#### 1.3.1 Create something to convert this into openapi"
   ]
  },
  {
   "cell_type": "code",
   "execution_count": 5,
   "metadata": {},
   "outputs": [
    {
     "name": "stdout",
     "output_type": "stream",
     "text": [
      "{'/football/v2/games/{id}': {'query_parameters': {'withExternalIds': {'type': 'boolean', 'example': 'true'}}, 'path_parameters': {'id': {'type': 'string', 'example': 'b07eaa67-f053-11ed-b4a7-bab79e4492fa'}}, 'response_sample': {'id': 'b07eaa67-f053-11ed-b4a7-bab79e4492fa', 'homeTeam': {'id': '10402310-a47e-10ea-7442-16b633633637', 'currentLogo': 'https://static.www.nfl.com/{formatInstructions}/league/api/clubs/logos/KC', 'fullName': 'Kansas City Chiefs'}, 'awayTeam': {'id': '10402700-1662-d8ad-f45c-0b0ea460d045', 'currentLogo': 'https://static.www.nfl.com/{formatInstructions}/league/api/clubs/logos/MIA', 'fullName': 'Miami Dolphins'}, 'category': None, 'date': '2023-11-05', 'time': '2023-11-05T14:30:00Z', 'broadcastInfo': {'homeNetworkChannels': ['NFL NETWORK'], 'awayNetworkChannels': ['NFL NETWORK'], 'internationalWatchOptions': [{'countryCode': 'CA', 'broadcasters': ['DAZN Canada', 'RDS', 'TSN']}, {'countryCode': 'GB', 'broadcasters': ['Sky Sports', 'NFL Game Pass on DAZN']}, {'countryCode': 'MX', 'broadcasters': ['NFL Game Pass on DAZN']}, {'countryCode': 'DE', 'broadcasters': ['NFL Game Pass on DAZN', 'DAZN Germany (OTT)', 'RTL']}, {'countryCode': 'AU', 'broadcasters': ['NFL Game Pass on DAZN', 'ESPN', 'TVNZ+']}, {'countryCode': 'FR', 'broadcasters': ['NFL Game Pass on DAZN', 'beIN 2', '6Play']}, {'countryCode': 'BR', 'broadcasters': ['NFL Game Pass on DAZN', 'ESPN2']}], 'territory': 'NATIONAL'}, 'neutralSite': None, 'venue': {'id': '00082031-5500-35b5-a67a-7f374ebf7168', 'name': 'Frankfurt Stadium'}, 'season': 2023, 'seasonType': 'REG', 'status': 'SCHEDULED', 'week': 9, 'weekType': 'REG', 'externalIds': [{'source': 'elias', 'id': '2023110500'}, {'source': 'gsis', 'id': '59296'}, {'source': 'slug', 'id': 'dolphins-at-chiefs-2023-reg-9'}], 'ticketUrl': None, 'ticketVendors': []}}}\n"
     ]
    }
   ],
   "source": [
    "from nfl_client.url_utils import generate_openapi_spec\n",
    "\n",
    "# Example\n",
    "print(url_data)\n",
    "openapi_yaml = generate_openapi_spec(url_data)\n",
    "with open('openapi.yaml', 'w') as f:\n",
    "    f.write(openapi_yaml)"
   ]
  },
  {
   "cell_type": "markdown",
   "metadata": {},
   "source": [
    "#### 1.3.2 Put it all together"
   ]
  },
  {
   "cell_type": "code",
   "execution_count": 4,
   "metadata": {},
   "outputs": [
    {
     "data": {
      "text/plain": [
       "12"
      ]
     },
     "execution_count": 4,
     "metadata": {},
     "output_type": "execute_result"
    }
   ],
   "source": [
    "from nfl_client import NFLClient\n",
    "client = NFLClient()\n",
    "url_json = client.download_endpoints(wait_time=300)\n",
    "len(url_json)"
   ]
  },
  {
   "cell_type": "markdown",
   "metadata": {},
   "source": [
    "### 1.2 Get team data through the teams endpoint"
   ]
  },
  {
   "cell_type": "code",
   "execution_count": 35,
   "metadata": {},
   "outputs": [
    {
     "data": {
      "text/plain": [
       "<Response [200]>"
      ]
     },
     "execution_count": 35,
     "metadata": {},
     "output_type": "execute_result"
    }
   ],
   "source": [
    "api_url = 'https://api.nfl.com/football/v2/teams?limit=100&season=2023'\n",
    "request(api_url)"
   ]
  },
  {
   "cell_type": "code",
   "execution_count": null,
   "metadata": {},
   "outputs": [],
   "source": []
  }
 ],
 "metadata": {
  "kernelspec": {
   "display_name": "Python 3",
   "language": "python",
   "name": "python3"
  },
  "language_info": {
   "codemirror_mode": {
    "name": "ipython",
    "version": 3
   },
   "file_extension": ".py",
   "mimetype": "text/x-python",
   "name": "python",
   "nbconvert_exporter": "python",
   "pygments_lexer": "ipython3",
   "version": "3.10.9"
  }
 },
 "nbformat": 4,
 "nbformat_minor": 2
}
